{
 "cells": [
  {
   "cell_type": "code",
   "execution_count": 5,
   "metadata": {},
   "outputs": [
    {
     "data": {
      "text/plain": [
       "True"
      ]
     },
     "execution_count": 5,
     "metadata": {},
     "output_type": "execute_result"
    }
   ],
   "source": [
    "#wrieting/ saving an Image\n",
    "import cv2 as cv \n",
    "from cv2 import imwrite\n",
    "\n",
    "img=cv.imread('data_for_cv/islam.JPEG')\n",
    "img=cv.resize(img, (800,600))\n",
    "gray= cv.cvtColor(img, cv.COLOR_BGR2GRAY)\n",
    "(thresh, binary)= cv.threshold(gray, 127,255, cv.THRESH_BINARY)\n",
    "binary=cv.resize(binary,(400,300))\n",
    "imwrite('Image_gray.png',gray)\n",
    "imwrite('Image_B&W.png',binary)\n",
    "\n",
    "\n",
    "#cv.waitKey(0)\n",
    "#cv.destroyAllWindows()"
   ]
  },
  {
   "cell_type": "code",
   "execution_count": null,
   "metadata": {},
   "outputs": [],
   "source": []
  }
 ],
 "metadata": {
  "interpreter": {
   "hash": "5ce1028be8e515692f6fd691475cddc273996f1e08399b9033d41b7f6acd6d03"
  },
  "kernelspec": {
   "display_name": "Python 3.9.7 64-bit ('base': conda)",
   "language": "python",
   "name": "python3"
  },
  "language_info": {
   "codemirror_mode": {
    "name": "ipython",
    "version": 3
   },
   "file_extension": ".py",
   "mimetype": "text/x-python",
   "name": "python",
   "nbconvert_exporter": "python",
   "pygments_lexer": "ipython3",
   "version": "3.9.7"
  },
  "orig_nbformat": 4
 },
 "nbformat": 4,
 "nbformat_minor": 2
}
