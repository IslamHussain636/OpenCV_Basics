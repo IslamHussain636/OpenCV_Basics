{
 "cells": [
  {
   "cell_type": "code",
   "execution_count": 5,
   "metadata": {},
   "outputs": [],
   "source": [
    "# face detection in Images \n",
    "\n",
    "import cv2 as cv\n",
    "\n",
    "face_cascade=cv.CascadeClassifier('haarcascade_frontalface_default.xml')\n",
    "\n",
    "img= cv.imread('islam.JPEG')\n",
    "img=cv.resize(img,(300,300))\n",
    "gray_img=cv.cvtColor(img,cv.COLOR_BGR2GRAY)\n",
    "\n",
    "faces=face_cascade.detectMultiScale(gray_img,1.1,4)\n",
    "\n",
    "for (x,y,w,h) in faces:\n",
    "    cv.rectangle(img,(x,y), (x+w, y+h), (255,0,0),2)\n",
    "\n",
    "\n",
    "cv.imshow(\"Gray image\",gray_img)\n",
    "cv.imshow(\"image\",img)\n",
    "cv.imwrite('data-for_cv/islam.png',img)\n",
    "cv.waitKey(0)\n",
    "cv.destroyAllWindows()"
   ]
  },
  {
   "cell_type": "code",
   "execution_count": null,
   "metadata": {},
   "outputs": [],
   "source": []
  }
 ],
 "metadata": {
  "interpreter": {
   "hash": "5ce1028be8e515692f6fd691475cddc273996f1e08399b9033d41b7f6acd6d03"
  },
  "kernelspec": {
   "display_name": "Python 3.9.7 ('base')",
   "language": "python",
   "name": "python3"
  },
  "language_info": {
   "codemirror_mode": {
    "name": "ipython",
    "version": 3
   },
   "file_extension": ".py",
   "mimetype": "text/x-python",
   "name": "python",
   "nbconvert_exporter": "python",
   "pygments_lexer": "ipython3",
   "version": "3.9.7"
  },
  "orig_nbformat": 4
 },
 "nbformat": 4,
 "nbformat_minor": 2
}
