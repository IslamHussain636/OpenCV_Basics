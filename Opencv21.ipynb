{
 "cells": [
  {
   "cell_type": "code",
   "execution_count": 2,
   "metadata": {},
   "outputs": [
    {
     "ename": "error",
     "evalue": "OpenCV(4.5.5) :-1: error: (-5:Bad argument) in function 'resize'\n> Overload resolution failed:\n>  - src is not a numpy array, neither a scalar\n>  - Expected Ptr<cv::UMat> for argument 'src'\n",
     "output_type": "error",
     "traceback": [
      "\u001b[1;31m---------------------------------------------------------------------------\u001b[0m",
      "\u001b[1;31merror\u001b[0m                                     Traceback (most recent call last)",
      "\u001b[1;32m~\\AppData\\Local\\Temp/ipykernel_12532/1220944221.py\u001b[0m in \u001b[0;36m<module>\u001b[1;34m\u001b[0m\n\u001b[0;32m     17\u001b[0m \u001b[1;33m\u001b[0m\u001b[0m\n\u001b[0;32m     18\u001b[0m \u001b[0mcv\u001b[0m\u001b[1;33m.\u001b[0m\u001b[0mnamedWindow\u001b[0m\u001b[1;33m(\u001b[0m\u001b[1;34m'Bars'\u001b[0m\u001b[1;33m)\u001b[0m\u001b[1;33m\u001b[0m\u001b[1;33m\u001b[0m\u001b[0m\n\u001b[1;32m---> 19\u001b[1;33m \u001b[0mcv\u001b[0m\u001b[1;33m.\u001b[0m\u001b[0mresize\u001b[0m\u001b[1;33m(\u001b[0m\u001b[1;34m\"Bars\"\u001b[0m\u001b[1;33m,\u001b[0m\u001b[1;36m900\u001b[0m\u001b[1;33m,\u001b[0m\u001b[1;36m300\u001b[0m\u001b[1;33m)\u001b[0m\u001b[1;33m\u001b[0m\u001b[1;33m\u001b[0m\u001b[0m\n\u001b[0m\u001b[0;32m     20\u001b[0m \u001b[1;33m\u001b[0m\u001b[0m\n\u001b[0;32m     21\u001b[0m \u001b[0mcv\u001b[0m\u001b[1;33m.\u001b[0m\u001b[0mcreateTrackbar\u001b[0m\u001b[1;33m(\u001b[0m\u001b[1;34m'Hue Min'\u001b[0m\u001b[1;33m,\u001b[0m \u001b[1;34m'Bars'\u001b[0m\u001b[1;33m,\u001b[0m \u001b[1;36m0\u001b[0m\u001b[1;33m,\u001b[0m\u001b[1;36m179\u001b[0m\u001b[1;33m,\u001b[0m\u001b[0mslider\u001b[0m\u001b[1;33m)\u001b[0m\u001b[1;33m\u001b[0m\u001b[1;33m\u001b[0m\u001b[0m\n",
      "\u001b[1;31merror\u001b[0m: OpenCV(4.5.5) :-1: error: (-5:Bad argument) in function 'resize'\n> Overload resolution failed:\n>  - src is not a numpy array, neither a scalar\n>  - Expected Ptr<cv::UMat> for argument 'src'\n"
     ]
    }
   ],
   "source": [
    "# how to detect specific color inside python in pics \n",
    "\n",
    "import cv2 as cv \n",
    "import numpy as np \n",
    "\n",
    "img=cv.imread('islam.JPEG')\n",
    "\n",
    "#convert into HSV (Hue, Saturation, value)\n",
    "#hsv_img= cv.cvtColor(img, cv.COLOR_BGR2HSV)\n",
    "\n",
    "#slider\n",
    "\n",
    "def slider():\n",
    "    pass\n",
    "\n",
    "path= 'islam.JPEG'\n",
    "\n",
    "cv.namedWindow('Bars')\n",
    "cv.resize(\"Bars\",900,300)\n",
    "\n",
    "cv.createTrackbar('Hue Min', 'Bars', 0,179,slider)\n",
    "cv.createTrackbar('Hue Max', 'Bars', 179,179,slider)\n",
    "cv.createTrackbar('Sat Min', 'Bars', 0,255,slider)\n",
    "cv.createTrackbar('Sat Maxi', 'Bars', 255,255,slider)\n",
    "cv.createTrackbar('Val Min', 'Bars', 0,255,slider)\n",
    "cv.createTrackbar('Val Max', 'Bars', 255,255,slider)\n",
    "\n",
    "while True:\n",
    "      img= cv.imread(path)\n",
    "      hsv_img= cv.cvtColor(img, cv.COLOR_BGR2HSV)\n",
    "\n",
    "      hue_min=cv.getTrackbarPos('Hue Min', 'Bars')\n",
    "      hue_max=cv.getTrackbarPos('Hue Max', 'Bars')\n",
    "      sat_min=cv.getTrackbarPos('Sat Min', 'Bars')\n",
    "      sat_max=cv.getTrackbarPos('Sat Max', 'Bars')\n",
    "      val_min=cv.getTrackbarPos('Val Min', 'Bars')\n",
    "      val_max=cv.getTrackbarPos('Val Max', 'Bars')\n",
    "      \n",
    "      print(hue_min,hue_max,sat_min,sat_max,val_min,val_max)\n",
    "\n",
    "      cv.imshow('Original',img)\n",
    "      cv.imshow('HSV',hsv_img)\n",
    "      if cv.waitKey(1) & 0xff == ord('q'):\n",
    "          break \n",
    "\n",
    "cv.destroyAllWindows()\n",
    "\n",
    "\n",
    "\n",
    "\n",
    "\n"
   ]
  },
  {
   "cell_type": "code",
   "execution_count": null,
   "metadata": {},
   "outputs": [],
   "source": []
  }
 ],
 "metadata": {
  "interpreter": {
   "hash": "5ce1028be8e515692f6fd691475cddc273996f1e08399b9033d41b7f6acd6d03"
  },
  "kernelspec": {
   "display_name": "Python 3.9.7 ('base')",
   "language": "python",
   "name": "python3"
  },
  "language_info": {
   "codemirror_mode": {
    "name": "ipython",
    "version": 3
   },
   "file_extension": ".py",
   "mimetype": "text/x-python",
   "name": "python",
   "nbconvert_exporter": "python",
   "pygments_lexer": "ipython3",
   "version": "3.9.7"
  },
  "orig_nbformat": 4
 },
 "nbformat": 4,
 "nbformat_minor": 2
}
