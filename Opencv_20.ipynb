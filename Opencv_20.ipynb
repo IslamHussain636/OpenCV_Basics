{
 "cells": [
  {
   "cell_type": "code",
   "execution_count": 1,
   "metadata": {},
   "outputs": [],
   "source": [
    "#spliting videos into frames\n",
    "import cv2 as cv \n",
    "\n",
    "cap=cv.VideoCapture('data_for_cv/home.mp4')\n",
    "\n",
    "frame_no= 0\n",
    "\n",
    "while (True):\n",
    "    success, frame= cap.read()\n",
    "    if success:\n",
    "        cv.imwrite(f\"data_for_cv/frames.jpeg\", frame)\n",
    "    else:\n",
    "        break\n",
    "    frame_no= frame_no+1\n",
    "cap.release()\n",
    "\n",
    "\n",
    "\n",
    "\n",
    "\n",
    "    "
   ]
  },
  {
   "cell_type": "code",
   "execution_count": null,
   "metadata": {},
   "outputs": [],
   "source": []
  }
 ],
 "metadata": {
  "interpreter": {
   "hash": "5ce1028be8e515692f6fd691475cddc273996f1e08399b9033d41b7f6acd6d03"
  },
  "kernelspec": {
   "display_name": "Python 3.9.7 ('base')",
   "language": "python",
   "name": "python3"
  },
  "language_info": {
   "codemirror_mode": {
    "name": "ipython",
    "version": 3
   },
   "file_extension": ".py",
   "mimetype": "text/x-python",
   "name": "python",
   "nbconvert_exporter": "python",
   "pygments_lexer": "ipython3",
   "version": "3.9.7"
  },
  "orig_nbformat": 4
 },
 "nbformat": 4,
 "nbformat_minor": 2
}
