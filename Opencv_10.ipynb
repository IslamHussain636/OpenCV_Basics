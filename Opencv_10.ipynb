{
 "cells": [
  {
   "cell_type": "code",
   "execution_count": 2,
   "metadata": {},
   "outputs": [],
   "source": [
    "# Capture camera  and in gray and lack and white \n",
    "import cv2 as cv \n",
    "import numpy as np \n",
    "\n",
    "cap= cv.VideoCapture(0)\n",
    "\n",
    "while True:\n",
    "    (ret, frame)=cap.read()\n",
    "    gray_video= cv.cvtColor(frame, cv.COLOR_BGR2GRAY)\n",
    "    (thresh, binary)= cv.threshold(gray_video, 127,255, cv.THRESH_BINARY)\n",
    "\n",
    "\n",
    "    cv.imshow(\"origanal\", frame)\n",
    "    cv.imshow(\"gray\", gray_video)\n",
    "    cv.imshow(\"gray\", binary)\n",
    "\n",
    "    if cv.waitKey(1) & 0xff==ord('q'):\n",
    "            break\n",
    "\n",
    "cap.release()\n",
    "cv.destroyAllWindows()    \n",
    "\n",
    "\n"
   ]
  },
  {
   "cell_type": "code",
   "execution_count": null,
   "metadata": {},
   "outputs": [],
   "source": []
  }
 ],
 "metadata": {
  "interpreter": {
   "hash": "5ce1028be8e515692f6fd691475cddc273996f1e08399b9033d41b7f6acd6d03"
  },
  "kernelspec": {
   "display_name": "Python 3.9.7 64-bit ('base': conda)",
   "language": "python",
   "name": "python3"
  },
  "language_info": {
   "codemirror_mode": {
    "name": "ipython",
    "version": 3
   },
   "file_extension": ".py",
   "mimetype": "text/x-python",
   "name": "python",
   "nbconvert_exporter": "python",
   "pygments_lexer": "ipython3",
   "version": "3.9.7"
  },
  "orig_nbformat": 4
 },
 "nbformat": 4,
 "nbformat_minor": 2
}
