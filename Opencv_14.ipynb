{
 "cells": [
  {
   "cell_type": "markdown",
   "metadata": {},
   "source": [
    "# #Assignment spliting the line into a newline."
   ]
  },
  {
   "cell_type": "code",
   "execution_count": 1,
   "metadata": {},
   "outputs": [],
   "source": [
    "# drawing shapes and lines \n",
    "import cv2 as cv  \n",
    "\n",
    "import numpy as np \n",
    "\n",
    "# draw a canvas\n",
    "\n",
    "img= np.zeros((600,600))\n",
    "#img1=np.ones((600,600))\n",
    "\n",
    "# print size\n",
    "#print(\"The size of our canvas is:\",img.shape)\n",
    "\n",
    "# adding colors to the canvas \n",
    "color_img=np.zeros((600,600,3), np.uint8) # channel for color\n",
    "#color_img[:]= 255,0,255\n",
    "color_img[:]=210,45,123\n",
    "\n",
    "#part of an image\n",
    "color_img[150:230, 100:200]= 255,0,255\n",
    "\n",
    "#adding line  cross \n",
    "cv.line(color_img,(0,0), (300,300),(255,0,255),3)\n",
    "cv.line(color_img,(0,0), (color_img.shape[0],color_img.shape[1]),(255,0,0),3)\n",
    "\n",
    "#rectangles \n",
    "cv.rectangle(color_img,(50,100),(300,400),(255,0,0),cv.FILLED)\n",
    "\n",
    "#cricle \n",
    "cv.circle(color_img,(300,455), 50, (255,34,56,),cv.FILLED )\n",
    "\n",
    "# adding text\n",
    "#Assignment spliting the line into a newline. \n",
    "text = \"Python ka \\n chilla with bab g\"\n",
    "y0, dy = 50, 25\n",
    "for i, line in enumerate(text.split('\\n')):\n",
    "    y = y0 + i*dy\n",
    "    cv.putText(color_img, line, (50, y ), cv.FONT_HERSHEY_SIMPLEX, 1, 2)\n",
    "#cv.putText(color_img,\"Python ka chilla with bab g\",(200,200),cv.FONT_HERSHEY_COMPLEX,.5,(255,255,0,1))\n",
    "#cv.imshow('cropped',img)\n",
    "cv.imshow('color',color_img)\n",
    "#cv.imshow('white',img1)\n",
    "cv.waitKey(0)\n",
    "cv.destroyAllWindows()"
   ]
  },
  {
   "cell_type": "code",
   "execution_count": null,
   "metadata": {},
   "outputs": [],
   "source": []
  }
 ],
 "metadata": {
  "interpreter": {
   "hash": "5ce1028be8e515692f6fd691475cddc273996f1e08399b9033d41b7f6acd6d03"
  },
  "kernelspec": {
   "display_name": "Python 3.9.7 64-bit ('base': conda)",
   "language": "python",
   "name": "python3"
  },
  "language_info": {
   "codemirror_mode": {
    "name": "ipython",
    "version": 3
   },
   "file_extension": ".py",
   "mimetype": "text/x-python",
   "name": "python",
   "nbconvert_exporter": "python",
   "pygments_lexer": "ipython3",
   "version": "3.9.7"
  },
  "orig_nbformat": 4
 },
 "nbformat": 4,
 "nbformat_minor": 2
}
