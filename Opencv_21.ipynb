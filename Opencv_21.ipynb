{
 "cells": [
  {
   "cell_type": "code",
   "execution_count": 1,
   "metadata": {},
   "outputs": [
    {
     "ename": "TypeError",
     "evalue": "slider() takes 0 positional arguments but 1 was given",
     "output_type": "error",
     "traceback": [
      "\u001b[1;31m---------------------------------------------------------------------------\u001b[0m",
      "\u001b[1;31mTypeError\u001b[0m                                 Traceback (most recent call last)",
      "\u001b[1;31mTypeError\u001b[0m: slider() takes 0 positional arguments but 1 was given"
     ]
    },
    {
     "ename": "TypeError",
     "evalue": "slider() takes 0 positional arguments but 1 was given",
     "output_type": "error",
     "traceback": [
      "\u001b[1;31m---------------------------------------------------------------------------\u001b[0m",
      "\u001b[1;31mTypeError\u001b[0m                                 Traceback (most recent call last)",
      "\u001b[1;31mTypeError\u001b[0m: slider() takes 0 positional arguments but 1 was given"
     ]
    },
    {
     "ename": "TypeError",
     "evalue": "slider() takes 0 positional arguments but 1 was given",
     "output_type": "error",
     "traceback": [
      "\u001b[1;31m---------------------------------------------------------------------------\u001b[0m",
      "\u001b[1;31mTypeError\u001b[0m                                 Traceback (most recent call last)",
      "\u001b[1;31mTypeError\u001b[0m: slider() takes 0 positional arguments but 1 was given"
     ]
    },
    {
     "name": "stdout",
     "output_type": "stream",
     "text": [
      "0 179 0 255 0 255\n",
      "0 179 0 255 0 255\n",
      "0 179 0 255 0 255\n",
      "0 179 0 255 0 255\n",
      "0 179 0 255 0 255\n",
      "0 179 0 255 0 255\n",
      "0 179 0 255 0 255\n",
      "0 179 0 255 0 255\n",
      "0 179 0 255 0 255\n",
      "0 179 0 255 0 255\n",
      "0 179 0 255 0 255\n",
      "0 179 0 255 0 255\n",
      "0 179 0 255 0 255\n",
      "0 179 0 255 0 255\n",
      "0 179 0 255 0 255\n",
      "0 179 0 255 0 255\n",
      "0 179 0 255 0 255\n",
      "0 179 0 255 0 255\n",
      "0 179 0 255 0 255\n",
      "0 179 0 255 0 255\n",
      "0 179 0 255 0 255\n",
      "0 179 0 255 0 255\n",
      "0 179 0 255 0 255\n",
      "0 179 0 255 0 255\n",
      "0 179 0 255 0 255\n",
      "0 179 0 255 0 255\n",
      "0 179 0 255 0 255\n",
      "0 179 0 255 0 255\n",
      "0 179 0 255 0 255\n",
      "0 179 0 255 0 255\n",
      "0 179 0 255 0 255\n",
      "0 179 0 255 0 255\n",
      "0 179 0 255 0 255\n",
      "0 179 0 255 0 255\n",
      "0 179 0 255 0 255\n",
      "0 179 0 255 0 255\n",
      "0 179 0 255 0 255\n",
      "0 179 0 255 0 255\n",
      "0 179 0 255 0 255\n",
      "0 179 0 255 0 255\n",
      "0 179 0 255 0 255\n",
      "0 179 0 255 0 255\n",
      "0 179 0 255 0 255\n",
      "0 179 0 255 0 255\n",
      "0 179 0 255 0 255\n",
      "0 179 0 255 0 255\n",
      "0 179 0 255 0 255\n",
      "0 179 0 255 0 255\n",
      "0 179 0 255 0 255\n",
      "0 179 0 255 0 255\n",
      "0 179 0 255 0 255\n",
      "0 179 0 255 0 255\n",
      "0 179 0 255 0 255\n",
      "0 179 0 255 0 255\n",
      "0 179 0 255 0 255\n",
      "0 179 0 255 0 255\n",
      "0 179 0 255 0 255\n",
      "0 179 0 255 0 255\n",
      "0 179 0 255 0 255\n",
      "0 179 0 255 0 255\n",
      "0 179 0 255 0 255\n",
      "0 179 0 255 0 255\n",
      "0 179 0 255 0 255\n",
      "0 179 0 255 0 255\n",
      "0 179 0 255 0 255\n",
      "0 179 0 255 0 255\n",
      "0 179 0 255 0 255\n",
      "0 179 0 255 0 255\n",
      "0 179 0 255 0 255\n",
      "0 179 0 255 0 255\n",
      "0 179 0 255 0 255\n",
      "0 179 0 255 0 255\n",
      "0 179 0 255 0 255\n",
      "0 179 0 255 0 255\n",
      "0 179 0 255 0 255\n",
      "0 179 0 255 0 255\n",
      "0 179 0 255 0 255\n",
      "0 179 0 255 0 255\n",
      "0 179 0 255 0 255\n",
      "0 179 0 255 0 255\n",
      "0 179 0 255 0 255\n",
      "0 179 0 255 0 255\n",
      "0 179 0 255 0 255\n",
      "0 179 0 255 0 255\n",
      "0 179 0 255 0 255\n",
      "0 179 0 255 0 255\n",
      "0 179 0 255 0 255\n",
      "0 179 0 255 0 255\n",
      "0 179 0 255 0 255\n",
      "0 179 0 255 0 255\n",
      "0 179 0 255 0 255\n",
      "0 179 0 255 0 255\n",
      "0 179 0 255 0 255\n",
      "0 179 0 255 0 255\n",
      "0 179 0 255 0 255\n",
      "0 179 0 255 0 255\n",
      "0 179 0 255 0 255\n",
      "0 179 0 255 0 255\n",
      "0 179 0 255 0 255\n",
      "0 179 0 255 0 255\n",
      "0 179 0 255 0 255\n",
      "0 179 0 255 0 255\n",
      "0 179 0 255 0 255\n",
      "0 179 0 255 0 255\n",
      "0 179 0 255 0 255\n",
      "0 179 0 255 0 255\n",
      "0 179 0 255 0 255\n",
      "0 179 0 255 0 255\n",
      "0 179 0 255 0 255\n",
      "0 179 0 255 0 255\n",
      "0 179 0 255 0 255\n",
      "0 179 0 255 0 255\n",
      "0 179 0 255 0 255\n",
      "0 179 0 255 0 255\n",
      "0 179 0 255 0 255\n",
      "0 179 0 255 0 255\n",
      "0 179 0 255 0 255\n",
      "0 179 0 255 0 255\n",
      "0 179 0 255 0 255\n",
      "0 179 0 255 0 255\n",
      "0 179 0 255 0 255\n",
      "0 179 0 255 0 255\n",
      "0 179 0 255 0 255\n",
      "0 179 0 255 0 255\n",
      "0 179 0 255 0 255\n",
      "0 179 0 255 0 255\n",
      "0 179 0 255 0 255\n",
      "0 179 0 255 0 255\n",
      "0 179 0 255 0 255\n",
      "0 179 0 255 0 255\n",
      "0 179 0 255 0 255\n",
      "0 179 0 255 0 255\n",
      "0 179 0 255 0 255\n",
      "0 179 0 255 0 255\n",
      "0 179 0 255 0 255\n",
      "0 179 0 255 0 255\n",
      "0 179 0 255 0 255\n",
      "0 179 0 255 0 255\n",
      "0 179 0 255 0 255\n",
      "0 179 0 255 0 255\n",
      "0 179 0 255 0 255\n",
      "0 179 0 255 0 255\n",
      "0 179 0 255 0 255\n",
      "0 179 0 255 0 255\n",
      "0 179 0 255 0 255\n",
      "0 179 0 255 0 255\n",
      "0 179 0 255 0 255\n",
      "0 179 0 255 0 255\n",
      "0 179 0 255 0 255\n",
      "0 179 0 255 0 255\n",
      "0 179 0 255 0 255\n",
      "0 179 0 255 0 255\n",
      "0 179 0 255 0 255\n",
      "0 179 0 255 0 255\n",
      "0 179 0 255 0 255\n",
      "0 179 0 255 0 255\n",
      "0 179 0 255 0 255\n",
      "0 179 0 255 0 255\n",
      "0 179 0 255 0 255\n",
      "0 179 0 255 0 255\n",
      "0 179 0 255 0 255\n",
      "0 179 0 255 0 255\n",
      "0 179 0 255 0 255\n",
      "0 179 0 255 0 255\n",
      "0 179 0 255 0 255\n",
      "0 179 0 255 0 255\n",
      "0 179 0 255 0 255\n",
      "0 179 0 255 0 255\n",
      "0 179 0 255 0 255\n",
      "0 179 0 255 0 255\n",
      "0 179 0 255 0 255\n",
      "0 179 0 255 0 255\n",
      "0 179 0 255 0 255\n",
      "0 179 0 255 0 255\n",
      "0 179 0 255 0 255\n",
      "0 179 0 255 0 255\n",
      "0 179 0 255 0 255\n",
      "0 179 0 255 0 255\n",
      "0 179 0 255 0 255\n",
      "0 179 0 255 0 255\n",
      "0 179 0 255 0 255\n",
      "0 179 0 255 0 255\n",
      "0 179 0 255 0 255\n",
      "0 179 0 255 0 255\n",
      "0 179 0 255 0 255\n",
      "0 179 0 255 0 255\n",
      "0 179 0 255 0 255\n",
      "0 179 0 255 0 255\n",
      "0 179 0 255 0 255\n",
      "0 179 0 255 0 255\n",
      "0 179 0 255 0 255\n",
      "0 179 0 255 0 255\n",
      "0 179 0 255 0 255\n",
      "0 179 0 255 0 255\n",
      "0 179 0 255 0 255\n",
      "0 179 0 255 0 255\n",
      "0 179 0 255 0 255\n",
      "0 179 0 255 0 255\n",
      "0 179 0 255 0 255\n",
      "0 179 0 255 0 255\n",
      "0 179 0 255 0 255\n",
      "0 179 0 255 0 255\n",
      "0 179 0 255 0 255\n",
      "0 179 0 255 0 255\n",
      "0 179 0 255 0 255\n",
      "0 179 0 255 0 255\n",
      "0 179 0 255 0 255\n",
      "0 179 0 255 0 255\n",
      "0 179 0 255 0 255\n",
      "0 179 0 255 0 255\n",
      "0 179 0 255 0 255\n",
      "0 179 0 255 0 255\n",
      "0 179 0 255 0 255\n",
      "0 179 0 255 0 255\n",
      "0 179 0 255 0 255\n",
      "0 179 0 255 0 255\n",
      "0 179 0 255 0 255\n",
      "0 179 0 255 0 255\n",
      "0 179 0 255 0 255\n",
      "0 179 0 255 0 255\n",
      "0 179 0 255 0 255\n",
      "0 179 0 255 0 255\n",
      "0 179 0 255 0 255\n",
      "0 179 0 255 0 255\n",
      "0 179 0 255 0 255\n",
      "0 179 0 255 0 255\n",
      "0 179 0 255 0 255\n",
      "0 179 0 255 0 255\n",
      "0 179 0 255 0 255\n",
      "0 179 0 255 0 255\n",
      "0 179 0 255 0 255\n",
      "0 179 0 255 0 255\n",
      "0 179 0 255 0 255\n",
      "0 179 0 255 0 255\n",
      "0 179 0 255 0 255\n",
      "0 179 0 255 0 255\n",
      "0 179 0 255 0 255\n",
      "0 179 0 255 0 255\n",
      "0 179 0 255 0 255\n",
      "0 179 0 255 0 255\n",
      "0 179 0 255 0 255\n",
      "0 179 0 255 0 255\n",
      "0 179 0 255 0 255\n",
      "0 179 0 255 0 255\n",
      "0 179 0 255 0 255\n",
      "0 179 0 255 0 255\n",
      "0 179 0 255 0 255\n",
      "0 179 0 255 0 255\n",
      "0 179 0 255 0 255\n",
      "0 179 0 255 0 255\n",
      "0 179 0 255 0 255\n",
      "0 179 0 255 0 255\n",
      "0 179 0 255 0 255\n",
      "0 179 0 255 0 255\n",
      "0 179 0 255 0 255\n",
      "0 179 0 255 0 255\n",
      "0 179 0 255 0 255\n",
      "0 179 0 255 0 255\n",
      "0 179 0 255 0 255\n",
      "0 179 0 255 0 255\n",
      "0 179 0 255 0 255\n",
      "0 179 0 255 0 255\n",
      "0 179 0 255 0 255\n",
      "0 179 0 255 0 255\n",
      "0 179 0 255 0 255\n",
      "0 179 0 255 0 255\n",
      "0 179 0 255 0 255\n",
      "0 179 0 255 0 255\n",
      "0 179 0 255 0 255\n",
      "0 179 0 255 0 255\n",
      "0 179 0 255 0 255\n",
      "0 179 0 255 0 255\n",
      "0 179 0 255 0 255\n",
      "0 179 0 255 0 255\n",
      "0 179 0 255 0 255\n",
      "0 179 0 255 0 255\n",
      "0 179 0 255 0 255\n",
      "0 179 0 255 0 255\n",
      "0 179 0 255 0 255\n",
      "0 179 0 255 0 255\n",
      "0 179 0 255 0 255\n",
      "0 179 0 255 0 255\n",
      "0 179 0 255 0 255\n",
      "0 179 0 255 0 255\n",
      "0 179 0 255 0 255\n"
     ]
    },
    {
     "ename": "TypeError",
     "evalue": "slider() takes 0 positional arguments but 1 was given",
     "output_type": "error",
     "traceback": [
      "\u001b[1;31m---------------------------------------------------------------------------\u001b[0m",
      "\u001b[1;31mTypeError\u001b[0m                                 Traceback (most recent call last)",
      "\u001b[1;31mTypeError\u001b[0m: slider() takes 0 positional arguments but 1 was given"
     ]
    },
    {
     "ename": "TypeError",
     "evalue": "slider() takes 0 positional arguments but 1 was given",
     "output_type": "error",
     "traceback": [
      "\u001b[1;31m---------------------------------------------------------------------------\u001b[0m",
      "\u001b[1;31mTypeError\u001b[0m                                 Traceback (most recent call last)",
      "\u001b[1;31mTypeError\u001b[0m: slider() takes 0 positional arguments but 1 was given"
     ]
    },
    {
     "name": "stdout",
     "output_type": "stream",
     "text": [
      "0 179 0 255 0 247\n"
     ]
    },
    {
     "ename": "TypeError",
     "evalue": "slider() takes 0 positional arguments but 1 was given",
     "output_type": "error",
     "traceback": [
      "\u001b[1;31m---------------------------------------------------------------------------\u001b[0m",
      "\u001b[1;31mTypeError\u001b[0m                                 Traceback (most recent call last)",
      "\u001b[1;31mTypeError\u001b[0m: slider() takes 0 positional arguments but 1 was given"
     ]
    },
    {
     "ename": "TypeError",
     "evalue": "slider() takes 0 positional arguments but 1 was given",
     "output_type": "error",
     "traceback": [
      "\u001b[1;31m---------------------------------------------------------------------------\u001b[0m",
      "\u001b[1;31mTypeError\u001b[0m                                 Traceback (most recent call last)",
      "\u001b[1;31mTypeError\u001b[0m: slider() takes 0 positional arguments but 1 was given"
     ]
    },
    {
     "name": "stdout",
     "output_type": "stream",
     "text": [
      "0 179 0 255 0 227\n"
     ]
    },
    {
     "ename": "TypeError",
     "evalue": "slider() takes 0 positional arguments but 1 was given",
     "output_type": "error",
     "traceback": [
      "\u001b[1;31m---------------------------------------------------------------------------\u001b[0m",
      "\u001b[1;31mTypeError\u001b[0m                                 Traceback (most recent call last)",
      "\u001b[1;31mTypeError\u001b[0m: slider() takes 0 positional arguments but 1 was given"
     ]
    },
    {
     "ename": "TypeError",
     "evalue": "slider() takes 0 positional arguments but 1 was given",
     "output_type": "error",
     "traceback": [
      "\u001b[1;31m---------------------------------------------------------------------------\u001b[0m",
      "\u001b[1;31mTypeError\u001b[0m                                 Traceback (most recent call last)",
      "\u001b[1;31mTypeError\u001b[0m: slider() takes 0 positional arguments but 1 was given"
     ]
    },
    {
     "name": "stdout",
     "output_type": "stream",
     "text": [
      "0 179 0 255 0 213\n"
     ]
    },
    {
     "ename": "TypeError",
     "evalue": "slider() takes 0 positional arguments but 1 was given",
     "output_type": "error",
     "traceback": [
      "\u001b[1;31m---------------------------------------------------------------------------\u001b[0m",
      "\u001b[1;31mTypeError\u001b[0m                                 Traceback (most recent call last)",
      "\u001b[1;31mTypeError\u001b[0m: slider() takes 0 positional arguments but 1 was given"
     ]
    },
    {
     "name": "stdout",
     "output_type": "stream",
     "text": [
      "0 179 0 255 0 200\n"
     ]
    },
    {
     "ename": "TypeError",
     "evalue": "slider() takes 0 positional arguments but 1 was given",
     "output_type": "error",
     "traceback": [
      "\u001b[1;31m---------------------------------------------------------------------------\u001b[0m",
      "\u001b[1;31mTypeError\u001b[0m                                 Traceback (most recent call last)",
      "\u001b[1;31mTypeError\u001b[0m: slider() takes 0 positional arguments but 1 was given"
     ]
    },
    {
     "ename": "TypeError",
     "evalue": "slider() takes 0 positional arguments but 1 was given",
     "output_type": "error",
     "traceback": [
      "\u001b[1;31m---------------------------------------------------------------------------\u001b[0m",
      "\u001b[1;31mTypeError\u001b[0m                                 Traceback (most recent call last)",
      "\u001b[1;31mTypeError\u001b[0m: slider() takes 0 positional arguments but 1 was given"
     ]
    },
    {
     "ename": "TypeError",
     "evalue": "slider() takes 0 positional arguments but 1 was given",
     "output_type": "error",
     "traceback": [
      "\u001b[1;31m---------------------------------------------------------------------------\u001b[0m",
      "\u001b[1;31mTypeError\u001b[0m                                 Traceback (most recent call last)",
      "\u001b[1;31mTypeError\u001b[0m: slider() takes 0 positional arguments but 1 was given"
     ]
    },
    {
     "name": "stdout",
     "output_type": "stream",
     "text": [
      "0 179 0 255 0 184\n"
     ]
    },
    {
     "ename": "TypeError",
     "evalue": "slider() takes 0 positional arguments but 1 was given",
     "output_type": "error",
     "traceback": [
      "\u001b[1;31m---------------------------------------------------------------------------\u001b[0m",
      "\u001b[1;31mTypeError\u001b[0m                                 Traceback (most recent call last)",
      "\u001b[1;31mTypeError\u001b[0m: slider() takes 0 positional arguments but 1 was given"
     ]
    },
    {
     "ename": "TypeError",
     "evalue": "slider() takes 0 positional arguments but 1 was given",
     "output_type": "error",
     "traceback": [
      "\u001b[1;31m---------------------------------------------------------------------------\u001b[0m",
      "\u001b[1;31mTypeError\u001b[0m                                 Traceback (most recent call last)",
      "\u001b[1;31mTypeError\u001b[0m: slider() takes 0 positional arguments but 1 was given"
     ]
    },
    {
     "ename": "TypeError",
     "evalue": "slider() takes 0 positional arguments but 1 was given",
     "output_type": "error",
     "traceback": [
      "\u001b[1;31m---------------------------------------------------------------------------\u001b[0m",
      "\u001b[1;31mTypeError\u001b[0m                                 Traceback (most recent call last)",
      "\u001b[1;31mTypeError\u001b[0m: slider() takes 0 positional arguments but 1 was given"
     ]
    },
    {
     "name": "stdout",
     "output_type": "stream",
     "text": [
      "0 179 0 255 0 172\n"
     ]
    },
    {
     "ename": "TypeError",
     "evalue": "slider() takes 0 positional arguments but 1 was given",
     "output_type": "error",
     "traceback": [
      "\u001b[1;31m---------------------------------------------------------------------------\u001b[0m",
      "\u001b[1;31mTypeError\u001b[0m                                 Traceback (most recent call last)",
      "\u001b[1;31mTypeError\u001b[0m: slider() takes 0 positional arguments but 1 was given"
     ]
    },
    {
     "name": "stdout",
     "output_type": "stream",
     "text": [
      "0 179 0 255 0 162\n"
     ]
    },
    {
     "ename": "TypeError",
     "evalue": "slider() takes 0 positional arguments but 1 was given",
     "output_type": "error",
     "traceback": [
      "\u001b[1;31m---------------------------------------------------------------------------\u001b[0m",
      "\u001b[1;31mTypeError\u001b[0m                                 Traceback (most recent call last)",
      "\u001b[1;31mTypeError\u001b[0m: slider() takes 0 positional arguments but 1 was given"
     ]
    },
    {
     "ename": "TypeError",
     "evalue": "slider() takes 0 positional arguments but 1 was given",
     "output_type": "error",
     "traceback": [
      "\u001b[1;31m---------------------------------------------------------------------------\u001b[0m",
      "\u001b[1;31mTypeError\u001b[0m                                 Traceback (most recent call last)",
      "\u001b[1;31mTypeError\u001b[0m: slider() takes 0 positional arguments but 1 was given"
     ]
    },
    {
     "name": "stdout",
     "output_type": "stream",
     "text": [
      "0 179 0 255 0 142\n"
     ]
    },
    {
     "ename": "TypeError",
     "evalue": "slider() takes 0 positional arguments but 1 was given",
     "output_type": "error",
     "traceback": [
      "\u001b[1;31m---------------------------------------------------------------------------\u001b[0m",
      "\u001b[1;31mTypeError\u001b[0m                                 Traceback (most recent call last)",
      "\u001b[1;31mTypeError\u001b[0m: slider() takes 0 positional arguments but 1 was given"
     ]
    },
    {
     "ename": "TypeError",
     "evalue": "slider() takes 0 positional arguments but 1 was given",
     "output_type": "error",
     "traceback": [
      "\u001b[1;31m---------------------------------------------------------------------------\u001b[0m",
      "\u001b[1;31mTypeError\u001b[0m                                 Traceback (most recent call last)",
      "\u001b[1;31mTypeError\u001b[0m: slider() takes 0 positional arguments but 1 was given"
     ]
    },
    {
     "ename": "TypeError",
     "evalue": "slider() takes 0 positional arguments but 1 was given",
     "output_type": "error",
     "traceback": [
      "\u001b[1;31m---------------------------------------------------------------------------\u001b[0m",
      "\u001b[1;31mTypeError\u001b[0m                                 Traceback (most recent call last)",
      "\u001b[1;31mTypeError\u001b[0m: slider() takes 0 positional arguments but 1 was given"
     ]
    },
    {
     "name": "stdout",
     "output_type": "stream",
     "text": [
      "0 179 0 255 0 125\n"
     ]
    },
    {
     "ename": "TypeError",
     "evalue": "slider() takes 0 positional arguments but 1 was given",
     "output_type": "error",
     "traceback": [
      "\u001b[1;31m---------------------------------------------------------------------------\u001b[0m",
      "\u001b[1;31mTypeError\u001b[0m                                 Traceback (most recent call last)",
      "\u001b[1;31mTypeError\u001b[0m: slider() takes 0 positional arguments but 1 was given"
     ]
    },
    {
     "ename": "TypeError",
     "evalue": "slider() takes 0 positional arguments but 1 was given",
     "output_type": "error",
     "traceback": [
      "\u001b[1;31m---------------------------------------------------------------------------\u001b[0m",
      "\u001b[1;31mTypeError\u001b[0m                                 Traceback (most recent call last)",
      "\u001b[1;31mTypeError\u001b[0m: slider() takes 0 positional arguments but 1 was given"
     ]
    },
    {
     "name": "stdout",
     "output_type": "stream",
     "text": [
      "0 179 0 255 0 119\n"
     ]
    },
    {
     "ename": "TypeError",
     "evalue": "slider() takes 0 positional arguments but 1 was given",
     "output_type": "error",
     "traceback": [
      "\u001b[1;31m---------------------------------------------------------------------------\u001b[0m",
      "\u001b[1;31mTypeError\u001b[0m                                 Traceback (most recent call last)",
      "\u001b[1;31mTypeError\u001b[0m: slider() takes 0 positional arguments but 1 was given"
     ]
    },
    {
     "ename": "TypeError",
     "evalue": "slider() takes 0 positional arguments but 1 was given",
     "output_type": "error",
     "traceback": [
      "\u001b[1;31m---------------------------------------------------------------------------\u001b[0m",
      "\u001b[1;31mTypeError\u001b[0m                                 Traceback (most recent call last)",
      "\u001b[1;31mTypeError\u001b[0m: slider() takes 0 positional arguments but 1 was given"
     ]
    },
    {
     "name": "stdout",
     "output_type": "stream",
     "text": [
      "0 179 0 255 0 107\n"
     ]
    },
    {
     "ename": "TypeError",
     "evalue": "slider() takes 0 positional arguments but 1 was given",
     "output_type": "error",
     "traceback": [
      "\u001b[1;31m---------------------------------------------------------------------------\u001b[0m",
      "\u001b[1;31mTypeError\u001b[0m                                 Traceback (most recent call last)",
      "\u001b[1;31mTypeError\u001b[0m: slider() takes 0 positional arguments but 1 was given"
     ]
    },
    {
     "name": "stdout",
     "output_type": "stream",
     "text": [
      "0 179 0 255 0 89\n"
     ]
    },
    {
     "ename": "TypeError",
     "evalue": "slider() takes 0 positional arguments but 1 was given",
     "output_type": "error",
     "traceback": [
      "\u001b[1;31m---------------------------------------------------------------------------\u001b[0m",
      "\u001b[1;31mTypeError\u001b[0m                                 Traceback (most recent call last)",
      "\u001b[1;31mTypeError\u001b[0m: slider() takes 0 positional arguments but 1 was given"
     ]
    },
    {
     "ename": "TypeError",
     "evalue": "slider() takes 0 positional arguments but 1 was given",
     "output_type": "error",
     "traceback": [
      "\u001b[1;31m---------------------------------------------------------------------------\u001b[0m",
      "\u001b[1;31mTypeError\u001b[0m                                 Traceback (most recent call last)",
      "\u001b[1;31mTypeError\u001b[0m: slider() takes 0 positional arguments but 1 was given"
     ]
    },
    {
     "name": "stdout",
     "output_type": "stream",
     "text": [
      "0 179 0 255 0 83\n"
     ]
    },
    {
     "ename": "TypeError",
     "evalue": "slider() takes 0 positional arguments but 1 was given",
     "output_type": "error",
     "traceback": [
      "\u001b[1;31m---------------------------------------------------------------------------\u001b[0m",
      "\u001b[1;31mTypeError\u001b[0m                                 Traceback (most recent call last)",
      "\u001b[1;31mTypeError\u001b[0m: slider() takes 0 positional arguments but 1 was given"
     ]
    },
    {
     "ename": "TypeError",
     "evalue": "slider() takes 0 positional arguments but 1 was given",
     "output_type": "error",
     "traceback": [
      "\u001b[1;31m---------------------------------------------------------------------------\u001b[0m",
      "\u001b[1;31mTypeError\u001b[0m                                 Traceback (most recent call last)",
      "\u001b[1;31mTypeError\u001b[0m: slider() takes 0 positional arguments but 1 was given"
     ]
    },
    {
     "name": "stdout",
     "output_type": "stream",
     "text": [
      "0 179 0 255 0 73\n"
     ]
    },
    {
     "ename": "TypeError",
     "evalue": "slider() takes 0 positional arguments but 1 was given",
     "output_type": "error",
     "traceback": [
      "\u001b[1;31m---------------------------------------------------------------------------\u001b[0m",
      "\u001b[1;31mTypeError\u001b[0m                                 Traceback (most recent call last)",
      "\u001b[1;31mTypeError\u001b[0m: slider() takes 0 positional arguments but 1 was given"
     ]
    },
    {
     "name": "stdout",
     "output_type": "stream",
     "text": [
      "0 179 0 255 0 67\n"
     ]
    },
    {
     "ename": "TypeError",
     "evalue": "slider() takes 0 positional arguments but 1 was given",
     "output_type": "error",
     "traceback": [
      "\u001b[1;31m---------------------------------------------------------------------------\u001b[0m",
      "\u001b[1;31mTypeError\u001b[0m                                 Traceback (most recent call last)",
      "\u001b[1;31mTypeError\u001b[0m: slider() takes 0 positional arguments but 1 was given"
     ]
    },
    {
     "name": "stdout",
     "output_type": "stream",
     "text": [
      "0 179 0 255 0 65\n",
      "0 179 0 255 0 65\n",
      "0 179 0 255 0 65\n",
      "0 179 0 255 0 65\n",
      "0 179 0 255 0 65\n",
      "0 179 0 255 0 65\n",
      "0 179 0 255 0 65\n"
     ]
    },
    {
     "ename": "TypeError",
     "evalue": "slider() takes 0 positional arguments but 1 was given",
     "output_type": "error",
     "traceback": [
      "\u001b[1;31m---------------------------------------------------------------------------\u001b[0m",
      "\u001b[1;31mTypeError\u001b[0m                                 Traceback (most recent call last)",
      "\u001b[1;31mTypeError\u001b[0m: slider() takes 0 positional arguments but 1 was given"
     ]
    },
    {
     "name": "stdout",
     "output_type": "stream",
     "text": [
      "0 179 0 255 0 59\n"
     ]
    },
    {
     "ename": "TypeError",
     "evalue": "slider() takes 0 positional arguments but 1 was given",
     "output_type": "error",
     "traceback": [
      "\u001b[1;31m---------------------------------------------------------------------------\u001b[0m",
      "\u001b[1;31mTypeError\u001b[0m                                 Traceback (most recent call last)",
      "\u001b[1;31mTypeError\u001b[0m: slider() takes 0 positional arguments but 1 was given"
     ]
    },
    {
     "name": "stdout",
     "output_type": "stream",
     "text": [
      "0 179 0 255 0 53\n"
     ]
    },
    {
     "ename": "TypeError",
     "evalue": "slider() takes 0 positional arguments but 1 was given",
     "output_type": "error",
     "traceback": [
      "\u001b[1;31m---------------------------------------------------------------------------\u001b[0m",
      "\u001b[1;31mTypeError\u001b[0m                                 Traceback (most recent call last)",
      "\u001b[1;31mTypeError\u001b[0m: slider() takes 0 positional arguments but 1 was given"
     ]
    },
    {
     "name": "stdout",
     "output_type": "stream",
     "text": [
      "0 179 0 255 0 51\n"
     ]
    },
    {
     "ename": "TypeError",
     "evalue": "slider() takes 0 positional arguments but 1 was given",
     "output_type": "error",
     "traceback": [
      "\u001b[1;31m---------------------------------------------------------------------------\u001b[0m",
      "\u001b[1;31mTypeError\u001b[0m                                 Traceback (most recent call last)",
      "\u001b[1;31mTypeError\u001b[0m: slider() takes 0 positional arguments but 1 was given"
     ]
    },
    {
     "name": "stdout",
     "output_type": "stream",
     "text": [
      "0 179 0 255 0 49\n",
      "0 179 0 255 0 49\n",
      "0 179 0 255 0 49\n",
      "0 179 0 255 0 49\n",
      "0 179 0 255 0 49\n",
      "0 179 0 255 0 49\n",
      "0 179 0 255 0 49\n",
      "0 179 0 255 0 49\n"
     ]
    },
    {
     "ename": "TypeError",
     "evalue": "slider() takes 0 positional arguments but 1 was given",
     "output_type": "error",
     "traceback": [
      "\u001b[1;31m---------------------------------------------------------------------------\u001b[0m",
      "\u001b[1;31mTypeError\u001b[0m                                 Traceback (most recent call last)",
      "\u001b[1;31mTypeError\u001b[0m: slider() takes 0 positional arguments but 1 was given"
     ]
    },
    {
     "name": "stdout",
     "output_type": "stream",
     "text": [
      "0 179 0 255 0 43\n"
     ]
    },
    {
     "ename": "TypeError",
     "evalue": "slider() takes 0 positional arguments but 1 was given",
     "output_type": "error",
     "traceback": [
      "\u001b[1;31m---------------------------------------------------------------------------\u001b[0m",
      "\u001b[1;31mTypeError\u001b[0m                                 Traceback (most recent call last)",
      "\u001b[1;31mTypeError\u001b[0m: slider() takes 0 positional arguments but 1 was given"
     ]
    },
    {
     "name": "stdout",
     "output_type": "stream",
     "text": [
      "0 179 0 255 0 40\n",
      "0 179 0 255 0 40\n"
     ]
    },
    {
     "ename": "TypeError",
     "evalue": "slider() takes 0 positional arguments but 1 was given",
     "output_type": "error",
     "traceback": [
      "\u001b[1;31m---------------------------------------------------------------------------\u001b[0m",
      "\u001b[1;31mTypeError\u001b[0m                                 Traceback (most recent call last)",
      "\u001b[1;31mTypeError\u001b[0m: slider() takes 0 positional arguments but 1 was given"
     ]
    },
    {
     "name": "stdout",
     "output_type": "stream",
     "text": [
      "0 179 0 255 0 38\n",
      "0 179 0 255 0 38\n",
      "0 179 0 255 0 38\n",
      "0 179 0 255 0 38\n",
      "0 179 0 255 0 38\n",
      "0 179 0 255 0 38\n",
      "0 179 0 255 0 38\n",
      "0 179 0 255 0 38\n",
      "0 179 0 255 0 38\n"
     ]
    },
    {
     "ename": "TypeError",
     "evalue": "slider() takes 0 positional arguments but 1 was given",
     "output_type": "error",
     "traceback": [
      "\u001b[1;31m---------------------------------------------------------------------------\u001b[0m",
      "\u001b[1;31mTypeError\u001b[0m                                 Traceback (most recent call last)",
      "\u001b[1;31mTypeError\u001b[0m: slider() takes 0 positional arguments but 1 was given"
     ]
    },
    {
     "name": "stdout",
     "output_type": "stream",
     "text": [
      "0 179 0 255 0 43\n"
     ]
    },
    {
     "ename": "TypeError",
     "evalue": "slider() takes 0 positional arguments but 1 was given",
     "output_type": "error",
     "traceback": [
      "\u001b[1;31m---------------------------------------------------------------------------\u001b[0m",
      "\u001b[1;31mTypeError\u001b[0m                                 Traceback (most recent call last)",
      "\u001b[1;31mTypeError\u001b[0m: slider() takes 0 positional arguments but 1 was given"
     ]
    },
    {
     "ename": "TypeError",
     "evalue": "slider() takes 0 positional arguments but 1 was given",
     "output_type": "error",
     "traceback": [
      "\u001b[1;31m---------------------------------------------------------------------------\u001b[0m",
      "\u001b[1;31mTypeError\u001b[0m                                 Traceback (most recent call last)",
      "\u001b[1;31mTypeError\u001b[0m: slider() takes 0 positional arguments but 1 was given"
     ]
    },
    {
     "name": "stdout",
     "output_type": "stream",
     "text": [
      "0 179 0 255 0 51\n"
     ]
    },
    {
     "ename": "TypeError",
     "evalue": "slider() takes 0 positional arguments but 1 was given",
     "output_type": "error",
     "traceback": [
      "\u001b[1;31m---------------------------------------------------------------------------\u001b[0m",
      "\u001b[1;31mTypeError\u001b[0m                                 Traceback (most recent call last)",
      "\u001b[1;31mTypeError\u001b[0m: slider() takes 0 positional arguments but 1 was given"
     ]
    },
    {
     "ename": "TypeError",
     "evalue": "slider() takes 0 positional arguments but 1 was given",
     "output_type": "error",
     "traceback": [
      "\u001b[1;31m---------------------------------------------------------------------------\u001b[0m",
      "\u001b[1;31mTypeError\u001b[0m                                 Traceback (most recent call last)",
      "\u001b[1;31mTypeError\u001b[0m: slider() takes 0 positional arguments but 1 was given"
     ]
    },
    {
     "name": "stdout",
     "output_type": "stream",
     "text": [
      "0 179 0 255 0 61\n"
     ]
    },
    {
     "ename": "TypeError",
     "evalue": "slider() takes 0 positional arguments but 1 was given",
     "output_type": "error",
     "traceback": [
      "\u001b[1;31m---------------------------------------------------------------------------\u001b[0m",
      "\u001b[1;31mTypeError\u001b[0m                                 Traceback (most recent call last)",
      "\u001b[1;31mTypeError\u001b[0m: slider() takes 0 positional arguments but 1 was given"
     ]
    },
    {
     "name": "stdout",
     "output_type": "stream",
     "text": [
      "0 179 0 255 0 65\n"
     ]
    },
    {
     "ename": "TypeError",
     "evalue": "slider() takes 0 positional arguments but 1 was given",
     "output_type": "error",
     "traceback": [
      "\u001b[1;31m---------------------------------------------------------------------------\u001b[0m",
      "\u001b[1;31mTypeError\u001b[0m                                 Traceback (most recent call last)",
      "\u001b[1;31mTypeError\u001b[0m: slider() takes 0 positional arguments but 1 was given"
     ]
    },
    {
     "name": "stdout",
     "output_type": "stream",
     "text": [
      "0 179 0 255 0 69\n"
     ]
    },
    {
     "ename": "TypeError",
     "evalue": "slider() takes 0 positional arguments but 1 was given",
     "output_type": "error",
     "traceback": [
      "\u001b[1;31m---------------------------------------------------------------------------\u001b[0m",
      "\u001b[1;31mTypeError\u001b[0m                                 Traceback (most recent call last)",
      "\u001b[1;31mTypeError\u001b[0m: slider() takes 0 positional arguments but 1 was given"
     ]
    },
    {
     "name": "stdout",
     "output_type": "stream",
     "text": [
      "0 179 0 255 0 73\n"
     ]
    },
    {
     "ename": "TypeError",
     "evalue": "slider() takes 0 positional arguments but 1 was given",
     "output_type": "error",
     "traceback": [
      "\u001b[1;31m---------------------------------------------------------------------------\u001b[0m",
      "\u001b[1;31mTypeError\u001b[0m                                 Traceback (most recent call last)",
      "\u001b[1;31mTypeError\u001b[0m: slider() takes 0 positional arguments but 1 was given"
     ]
    },
    {
     "name": "stdout",
     "output_type": "stream",
     "text": [
      "0 179 0 255 0 77\n"
     ]
    },
    {
     "ename": "TypeError",
     "evalue": "slider() takes 0 positional arguments but 1 was given",
     "output_type": "error",
     "traceback": [
      "\u001b[1;31m---------------------------------------------------------------------------\u001b[0m",
      "\u001b[1;31mTypeError\u001b[0m                                 Traceback (most recent call last)",
      "\u001b[1;31mTypeError\u001b[0m: slider() takes 0 positional arguments but 1 was given"
     ]
    },
    {
     "name": "stdout",
     "output_type": "stream",
     "text": [
      "0 179 0 255 0 81\n"
     ]
    },
    {
     "ename": "TypeError",
     "evalue": "slider() takes 0 positional arguments but 1 was given",
     "output_type": "error",
     "traceback": [
      "\u001b[1;31m---------------------------------------------------------------------------\u001b[0m",
      "\u001b[1;31mTypeError\u001b[0m                                 Traceback (most recent call last)",
      "\u001b[1;31mTypeError\u001b[0m: slider() takes 0 positional arguments but 1 was given"
     ]
    },
    {
     "ename": "TypeError",
     "evalue": "slider() takes 0 positional arguments but 1 was given",
     "output_type": "error",
     "traceback": [
      "\u001b[1;31m---------------------------------------------------------------------------\u001b[0m",
      "\u001b[1;31mTypeError\u001b[0m                                 Traceback (most recent call last)",
      "\u001b[1;31mTypeError\u001b[0m: slider() takes 0 positional arguments but 1 was given"
     ]
    },
    {
     "ename": "TypeError",
     "evalue": "slider() takes 0 positional arguments but 1 was given",
     "output_type": "error",
     "traceback": [
      "\u001b[1;31m---------------------------------------------------------------------------\u001b[0m",
      "\u001b[1;31mTypeError\u001b[0m                                 Traceback (most recent call last)",
      "\u001b[1;31mTypeError\u001b[0m: slider() takes 0 positional arguments but 1 was given"
     ]
    },
    {
     "name": "stdout",
     "output_type": "stream",
     "text": [
      "0 179 0 255 0 89\n"
     ]
    },
    {
     "ename": "TypeError",
     "evalue": "slider() takes 0 positional arguments but 1 was given",
     "output_type": "error",
     "traceback": [
      "\u001b[1;31m---------------------------------------------------------------------------\u001b[0m",
      "\u001b[1;31mTypeError\u001b[0m                                 Traceback (most recent call last)",
      "\u001b[1;31mTypeError\u001b[0m: slider() takes 0 positional arguments but 1 was given"
     ]
    },
    {
     "name": "stdout",
     "output_type": "stream",
     "text": [
      "0 179 0 255 0 99\n"
     ]
    },
    {
     "ename": "TypeError",
     "evalue": "slider() takes 0 positional arguments but 1 was given",
     "output_type": "error",
     "traceback": [
      "\u001b[1;31m---------------------------------------------------------------------------\u001b[0m",
      "\u001b[1;31mTypeError\u001b[0m                                 Traceback (most recent call last)",
      "\u001b[1;31mTypeError\u001b[0m: slider() takes 0 positional arguments but 1 was given"
     ]
    },
    {
     "ename": "TypeError",
     "evalue": "slider() takes 0 positional arguments but 1 was given",
     "output_type": "error",
     "traceback": [
      "\u001b[1;31m---------------------------------------------------------------------------\u001b[0m",
      "\u001b[1;31mTypeError\u001b[0m                                 Traceback (most recent call last)",
      "\u001b[1;31mTypeError\u001b[0m: slider() takes 0 positional arguments but 1 was given"
     ]
    },
    {
     "name": "stdout",
     "output_type": "stream",
     "text": [
      "0 179 0 255 0 109\n"
     ]
    },
    {
     "ename": "TypeError",
     "evalue": "slider() takes 0 positional arguments but 1 was given",
     "output_type": "error",
     "traceback": [
      "\u001b[1;31m---------------------------------------------------------------------------\u001b[0m",
      "\u001b[1;31mTypeError\u001b[0m                                 Traceback (most recent call last)",
      "\u001b[1;31mTypeError\u001b[0m: slider() takes 0 positional arguments but 1 was given"
     ]
    },
    {
     "ename": "TypeError",
     "evalue": "slider() takes 0 positional arguments but 1 was given",
     "output_type": "error",
     "traceback": [
      "\u001b[1;31m---------------------------------------------------------------------------\u001b[0m",
      "\u001b[1;31mTypeError\u001b[0m                                 Traceback (most recent call last)",
      "\u001b[1;31mTypeError\u001b[0m: slider() takes 0 positional arguments but 1 was given"
     ]
    },
    {
     "name": "stdout",
     "output_type": "stream",
     "text": [
      "0 179 0 255 0 115\n"
     ]
    },
    {
     "ename": "TypeError",
     "evalue": "slider() takes 0 positional arguments but 1 was given",
     "output_type": "error",
     "traceback": [
      "\u001b[1;31m---------------------------------------------------------------------------\u001b[0m",
      "\u001b[1;31mTypeError\u001b[0m                                 Traceback (most recent call last)",
      "\u001b[1;31mTypeError\u001b[0m: slider() takes 0 positional arguments but 1 was given"
     ]
    },
    {
     "name": "stdout",
     "output_type": "stream",
     "text": [
      "0 179 0 255 0 119\n"
     ]
    },
    {
     "ename": "TypeError",
     "evalue": "slider() takes 0 positional arguments but 1 was given",
     "output_type": "error",
     "traceback": [
      "\u001b[1;31m---------------------------------------------------------------------------\u001b[0m",
      "\u001b[1;31mTypeError\u001b[0m                                 Traceback (most recent call last)",
      "\u001b[1;31mTypeError\u001b[0m: slider() takes 0 positional arguments but 1 was given"
     ]
    },
    {
     "ename": "TypeError",
     "evalue": "slider() takes 0 positional arguments but 1 was given",
     "output_type": "error",
     "traceback": [
      "\u001b[1;31m---------------------------------------------------------------------------\u001b[0m",
      "\u001b[1;31mTypeError\u001b[0m                                 Traceback (most recent call last)",
      "\u001b[1;31mTypeError\u001b[0m: slider() takes 0 positional arguments but 1 was given"
     ]
    },
    {
     "name": "stdout",
     "output_type": "stream",
     "text": [
      "0 179 0 255 0 127\n"
     ]
    },
    {
     "ename": "TypeError",
     "evalue": "slider() takes 0 positional arguments but 1 was given",
     "output_type": "error",
     "traceback": [
      "\u001b[1;31m---------------------------------------------------------------------------\u001b[0m",
      "\u001b[1;31mTypeError\u001b[0m                                 Traceback (most recent call last)",
      "\u001b[1;31mTypeError\u001b[0m: slider() takes 0 positional arguments but 1 was given"
     ]
    },
    {
     "name": "stdout",
     "output_type": "stream",
     "text": [
      "0 179 0 255 0 130\n"
     ]
    },
    {
     "ename": "TypeError",
     "evalue": "slider() takes 0 positional arguments but 1 was given",
     "output_type": "error",
     "traceback": [
      "\u001b[1;31m---------------------------------------------------------------------------\u001b[0m",
      "\u001b[1;31mTypeError\u001b[0m                                 Traceback (most recent call last)",
      "\u001b[1;31mTypeError\u001b[0m: slider() takes 0 positional arguments but 1 was given"
     ]
    },
    {
     "name": "stdout",
     "output_type": "stream",
     "text": [
      "0 179 0 255 0 136\n"
     ]
    },
    {
     "ename": "TypeError",
     "evalue": "slider() takes 0 positional arguments but 1 was given",
     "output_type": "error",
     "traceback": [
      "\u001b[1;31m---------------------------------------------------------------------------\u001b[0m",
      "\u001b[1;31mTypeError\u001b[0m                                 Traceback (most recent call last)",
      "\u001b[1;31mTypeError\u001b[0m: slider() takes 0 positional arguments but 1 was given"
     ]
    },
    {
     "name": "stdout",
     "output_type": "stream",
     "text": [
      "0 179 0 255 0 140\n"
     ]
    },
    {
     "ename": "TypeError",
     "evalue": "slider() takes 0 positional arguments but 1 was given",
     "output_type": "error",
     "traceback": [
      "\u001b[1;31m---------------------------------------------------------------------------\u001b[0m",
      "\u001b[1;31mTypeError\u001b[0m                                 Traceback (most recent call last)",
      "\u001b[1;31mTypeError\u001b[0m: slider() takes 0 positional arguments but 1 was given"
     ]
    },
    {
     "name": "stdout",
     "output_type": "stream",
     "text": [
      "0 179 0 255 0 144\n",
      "0 179 0 255 0 144\n",
      "0 179 0 255 0 144\n",
      "0 179 0 255 0 144\n",
      "0 179 0 255 0 144\n",
      "0 179 0 255 0 144\n",
      "0 179 0 255 0 144\n",
      "0 179 0 255 0 144\n",
      "0 179 0 255 0 144\n",
      "0 179 0 255 0 144\n",
      "0 179 0 255 0 144\n",
      "0 179 0 255 0 144\n",
      "0 179 0 255 0 144\n",
      "0 179 0 255 0 144\n",
      "0 179 0 255 0 144\n",
      "0 179 0 255 0 144\n",
      "0 179 0 255 0 144\n",
      "0 179 0 255 0 144\n",
      "0 179 0 255 0 144\n",
      "0 179 0 255 0 144\n",
      "0 179 0 255 0 144\n",
      "0 179 0 255 0 144\n",
      "0 179 0 255 0 144\n",
      "0 179 0 255 0 144\n",
      "0 179 0 255 0 144\n",
      "0 179 0 255 0 144\n",
      "0 179 0 255 0 144\n",
      "0 179 0 255 0 144\n",
      "0 179 0 255 0 144\n",
      "0 179 0 255 0 144\n",
      "0 179 0 255 0 144\n",
      "0 179 0 255 0 144\n",
      "0 179 0 255 0 144\n",
      "0 179 0 255 0 144\n",
      "0 179 0 255 0 144\n",
      "0 179 0 255 0 144\n",
      "0 179 0 255 0 144\n",
      "0 179 0 255 0 144\n",
      "0 179 0 255 0 144\n",
      "0 179 0 255 0 144\n",
      "0 179 0 255 0 144\n",
      "0 179 0 255 0 144\n",
      "0 179 0 255 0 144\n",
      "0 179 0 255 0 144\n",
      "0 179 0 255 0 144\n",
      "0 179 0 255 0 144\n",
      "0 179 0 255 0 144\n",
      "0 179 0 255 0 144\n",
      "0 179 0 255 0 144\n",
      "0 179 0 255 0 144\n",
      "0 179 0 255 0 144\n",
      "0 179 0 255 0 144\n",
      "0 179 0 255 0 144\n",
      "0 179 0 255 0 144\n",
      "0 179 0 255 0 144\n",
      "0 179 0 255 0 144\n",
      "0 179 0 255 0 144\n",
      "0 179 0 255 0 144\n",
      "0 179 0 255 0 144\n",
      "0 179 0 255 0 144\n",
      "0 179 0 255 0 144\n",
      "0 179 0 255 0 144\n",
      "0 179 0 255 0 144\n",
      "0 179 0 255 0 144\n",
      "0 179 0 255 0 144\n",
      "0 179 0 255 0 144\n",
      "0 179 0 255 0 144\n",
      "0 179 0 255 0 144\n",
      "0 179 0 255 0 144\n",
      "0 179 0 255 0 144\n"
     ]
    },
    {
     "ename": "TypeError",
     "evalue": "slider() takes 0 positional arguments but 1 was given",
     "output_type": "error",
     "traceback": [
      "\u001b[1;31m---------------------------------------------------------------------------\u001b[0m",
      "\u001b[1;31mTypeError\u001b[0m                                 Traceback (most recent call last)",
      "\u001b[1;31mTypeError\u001b[0m: slider() takes 0 positional arguments but 1 was given"
     ]
    },
    {
     "name": "stdout",
     "output_type": "stream",
     "text": [
      "0 179 0 255 1 144\n"
     ]
    },
    {
     "ename": "TypeError",
     "evalue": "slider() takes 0 positional arguments but 1 was given",
     "output_type": "error",
     "traceback": [
      "\u001b[1;31m---------------------------------------------------------------------------\u001b[0m",
      "\u001b[1;31mTypeError\u001b[0m                                 Traceback (most recent call last)",
      "\u001b[1;31mTypeError\u001b[0m: slider() takes 0 positional arguments but 1 was given"
     ]
    },
    {
     "name": "stdout",
     "output_type": "stream",
     "text": [
      "0 179 0 255 4 144\n"
     ]
    },
    {
     "ename": "TypeError",
     "evalue": "slider() takes 0 positional arguments but 1 was given",
     "output_type": "error",
     "traceback": [
      "\u001b[1;31m---------------------------------------------------------------------------\u001b[0m",
      "\u001b[1;31mTypeError\u001b[0m                                 Traceback (most recent call last)",
      "\u001b[1;31mTypeError\u001b[0m: slider() takes 0 positional arguments but 1 was given"
     ]
    },
    {
     "name": "stdout",
     "output_type": "stream",
     "text": [
      "0 179 0 255 7 144\n"
     ]
    },
    {
     "ename": "TypeError",
     "evalue": "slider() takes 0 positional arguments but 1 was given",
     "output_type": "error",
     "traceback": [
      "\u001b[1;31m---------------------------------------------------------------------------\u001b[0m",
      "\u001b[1;31mTypeError\u001b[0m                                 Traceback (most recent call last)",
      "\u001b[1;31mTypeError\u001b[0m: slider() takes 0 positional arguments but 1 was given"
     ]
    },
    {
     "name": "stdout",
     "output_type": "stream",
     "text": [
      "0 179 0 255 9 144\n"
     ]
    },
    {
     "ename": "TypeError",
     "evalue": "slider() takes 0 positional arguments but 1 was given",
     "output_type": "error",
     "traceback": [
      "\u001b[1;31m---------------------------------------------------------------------------\u001b[0m",
      "\u001b[1;31mTypeError\u001b[0m                                 Traceback (most recent call last)",
      "\u001b[1;31mTypeError\u001b[0m: slider() takes 0 positional arguments but 1 was given"
     ]
    },
    {
     "name": "stdout",
     "output_type": "stream",
     "text": [
      "0 179 0 255 10 144\n"
     ]
    },
    {
     "ename": "TypeError",
     "evalue": "slider() takes 0 positional arguments but 1 was given",
     "output_type": "error",
     "traceback": [
      "\u001b[1;31m---------------------------------------------------------------------------\u001b[0m",
      "\u001b[1;31mTypeError\u001b[0m                                 Traceback (most recent call last)",
      "\u001b[1;31mTypeError\u001b[0m: slider() takes 0 positional arguments but 1 was given"
     ]
    },
    {
     "name": "stdout",
     "output_type": "stream",
     "text": [
      "0 179 0 255 11 144\n"
     ]
    },
    {
     "ename": "TypeError",
     "evalue": "slider() takes 0 positional arguments but 1 was given",
     "output_type": "error",
     "traceback": [
      "\u001b[1;31m---------------------------------------------------------------------------\u001b[0m",
      "\u001b[1;31mTypeError\u001b[0m                                 Traceback (most recent call last)",
      "\u001b[1;31mTypeError\u001b[0m: slider() takes 0 positional arguments but 1 was given"
     ]
    },
    {
     "name": "stdout",
     "output_type": "stream",
     "text": [
      "0 179 0 255 13 144\n"
     ]
    },
    {
     "ename": "TypeError",
     "evalue": "slider() takes 0 positional arguments but 1 was given",
     "output_type": "error",
     "traceback": [
      "\u001b[1;31m---------------------------------------------------------------------------\u001b[0m",
      "\u001b[1;31mTypeError\u001b[0m                                 Traceback (most recent call last)",
      "\u001b[1;31mTypeError\u001b[0m: slider() takes 0 positional arguments but 1 was given"
     ]
    },
    {
     "name": "stdout",
     "output_type": "stream",
     "text": [
      "0 179 0 255 15 144\n"
     ]
    },
    {
     "ename": "TypeError",
     "evalue": "slider() takes 0 positional arguments but 1 was given",
     "output_type": "error",
     "traceback": [
      "\u001b[1;31m---------------------------------------------------------------------------\u001b[0m",
      "\u001b[1;31mTypeError\u001b[0m                                 Traceback (most recent call last)",
      "\u001b[1;31mTypeError\u001b[0m: slider() takes 0 positional arguments but 1 was given"
     ]
    },
    {
     "ename": "TypeError",
     "evalue": "slider() takes 0 positional arguments but 1 was given",
     "output_type": "error",
     "traceback": [
      "\u001b[1;31m---------------------------------------------------------------------------\u001b[0m",
      "\u001b[1;31mTypeError\u001b[0m                                 Traceback (most recent call last)",
      "\u001b[1;31mTypeError\u001b[0m: slider() takes 0 positional arguments but 1 was given"
     ]
    },
    {
     "name": "stdout",
     "output_type": "stream",
     "text": [
      "0 179 0 255 19 144\n"
     ]
    },
    {
     "ename": "TypeError",
     "evalue": "slider() takes 0 positional arguments but 1 was given",
     "output_type": "error",
     "traceback": [
      "\u001b[1;31m---------------------------------------------------------------------------\u001b[0m",
      "\u001b[1;31mTypeError\u001b[0m                                 Traceback (most recent call last)",
      "\u001b[1;31mTypeError\u001b[0m: slider() takes 0 positional arguments but 1 was given"
     ]
    },
    {
     "name": "stdout",
     "output_type": "stream",
     "text": [
      "0 179 0 255 22 144\n"
     ]
    },
    {
     "ename": "TypeError",
     "evalue": "slider() takes 0 positional arguments but 1 was given",
     "output_type": "error",
     "traceback": [
      "\u001b[1;31m---------------------------------------------------------------------------\u001b[0m",
      "\u001b[1;31mTypeError\u001b[0m                                 Traceback (most recent call last)",
      "\u001b[1;31mTypeError\u001b[0m: slider() takes 0 positional arguments but 1 was given"
     ]
    },
    {
     "ename": "TypeError",
     "evalue": "slider() takes 0 positional arguments but 1 was given",
     "output_type": "error",
     "traceback": [
      "\u001b[1;31m---------------------------------------------------------------------------\u001b[0m",
      "\u001b[1;31mTypeError\u001b[0m                                 Traceback (most recent call last)",
      "\u001b[1;31mTypeError\u001b[0m: slider() takes 0 positional arguments but 1 was given"
     ]
    },
    {
     "name": "stdout",
     "output_type": "stream",
     "text": [
      "0 179 0 255 25 144\n"
     ]
    },
    {
     "ename": "TypeError",
     "evalue": "slider() takes 0 positional arguments but 1 was given",
     "output_type": "error",
     "traceback": [
      "\u001b[1;31m---------------------------------------------------------------------------\u001b[0m",
      "\u001b[1;31mTypeError\u001b[0m                                 Traceback (most recent call last)",
      "\u001b[1;31mTypeError\u001b[0m: slider() takes 0 positional arguments but 1 was given"
     ]
    },
    {
     "name": "stdout",
     "output_type": "stream",
     "text": [
      "0 179 0 255 27 144\n"
     ]
    },
    {
     "ename": "TypeError",
     "evalue": "slider() takes 0 positional arguments but 1 was given",
     "output_type": "error",
     "traceback": [
      "\u001b[1;31m---------------------------------------------------------------------------\u001b[0m",
      "\u001b[1;31mTypeError\u001b[0m                                 Traceback (most recent call last)",
      "\u001b[1;31mTypeError\u001b[0m: slider() takes 0 positional arguments but 1 was given"
     ]
    },
    {
     "name": "stdout",
     "output_type": "stream",
     "text": [
      "0 179 0 255 29 144\n"
     ]
    },
    {
     "ename": "TypeError",
     "evalue": "slider() takes 0 positional arguments but 1 was given",
     "output_type": "error",
     "traceback": [
      "\u001b[1;31m---------------------------------------------------------------------------\u001b[0m",
      "\u001b[1;31mTypeError\u001b[0m                                 Traceback (most recent call last)",
      "\u001b[1;31mTypeError\u001b[0m: slider() takes 0 positional arguments but 1 was given"
     ]
    },
    {
     "name": "stdout",
     "output_type": "stream",
     "text": [
      "0 179 0 255 31 144\n"
     ]
    },
    {
     "ename": "TypeError",
     "evalue": "slider() takes 0 positional arguments but 1 was given",
     "output_type": "error",
     "traceback": [
      "\u001b[1;31m---------------------------------------------------------------------------\u001b[0m",
      "\u001b[1;31mTypeError\u001b[0m                                 Traceback (most recent call last)",
      "\u001b[1;31mTypeError\u001b[0m: slider() takes 0 positional arguments but 1 was given"
     ]
    },
    {
     "name": "stdout",
     "output_type": "stream",
     "text": [
      "0 179 0 255 33 144\n"
     ]
    },
    {
     "ename": "TypeError",
     "evalue": "slider() takes 0 positional arguments but 1 was given",
     "output_type": "error",
     "traceback": [
      "\u001b[1;31m---------------------------------------------------------------------------\u001b[0m",
      "\u001b[1;31mTypeError\u001b[0m                                 Traceback (most recent call last)",
      "\u001b[1;31mTypeError\u001b[0m: slider() takes 0 positional arguments but 1 was given"
     ]
    },
    {
     "name": "stdout",
     "output_type": "stream",
     "text": [
      "0 179 0 255 36 144\n"
     ]
    },
    {
     "ename": "TypeError",
     "evalue": "slider() takes 0 positional arguments but 1 was given",
     "output_type": "error",
     "traceback": [
      "\u001b[1;31m---------------------------------------------------------------------------\u001b[0m",
      "\u001b[1;31mTypeError\u001b[0m                                 Traceback (most recent call last)",
      "\u001b[1;31mTypeError\u001b[0m: slider() takes 0 positional arguments but 1 was given"
     ]
    },
    {
     "name": "stdout",
     "output_type": "stream",
     "text": [
      "0 179 0 255 39 144\n"
     ]
    },
    {
     "ename": "TypeError",
     "evalue": "slider() takes 0 positional arguments but 1 was given",
     "output_type": "error",
     "traceback": [
      "\u001b[1;31m---------------------------------------------------------------------------\u001b[0m",
      "\u001b[1;31mTypeError\u001b[0m                                 Traceback (most recent call last)",
      "\u001b[1;31mTypeError\u001b[0m: slider() takes 0 positional arguments but 1 was given"
     ]
    },
    {
     "ename": "TypeError",
     "evalue": "slider() takes 0 positional arguments but 1 was given",
     "output_type": "error",
     "traceback": [
      "\u001b[1;31m---------------------------------------------------------------------------\u001b[0m",
      "\u001b[1;31mTypeError\u001b[0m                                 Traceback (most recent call last)",
      "\u001b[1;31mTypeError\u001b[0m: slider() takes 0 positional arguments but 1 was given"
     ]
    },
    {
     "name": "stdout",
     "output_type": "stream",
     "text": [
      "0 179 0 255 43 144\n"
     ]
    },
    {
     "ename": "TypeError",
     "evalue": "slider() takes 0 positional arguments but 1 was given",
     "output_type": "error",
     "traceback": [
      "\u001b[1;31m---------------------------------------------------------------------------\u001b[0m",
      "\u001b[1;31mTypeError\u001b[0m                                 Traceback (most recent call last)",
      "\u001b[1;31mTypeError\u001b[0m: slider() takes 0 positional arguments but 1 was given"
     ]
    },
    {
     "ename": "TypeError",
     "evalue": "slider() takes 0 positional arguments but 1 was given",
     "output_type": "error",
     "traceback": [
      "\u001b[1;31m---------------------------------------------------------------------------\u001b[0m",
      "\u001b[1;31mTypeError\u001b[0m                                 Traceback (most recent call last)",
      "\u001b[1;31mTypeError\u001b[0m: slider() takes 0 positional arguments but 1 was given"
     ]
    },
    {
     "name": "stdout",
     "output_type": "stream",
     "text": [
      "0 179 0 255 47 144\n"
     ]
    },
    {
     "ename": "TypeError",
     "evalue": "slider() takes 0 positional arguments but 1 was given",
     "output_type": "error",
     "traceback": [
      "\u001b[1;31m---------------------------------------------------------------------------\u001b[0m",
      "\u001b[1;31mTypeError\u001b[0m                                 Traceback (most recent call last)",
      "\u001b[1;31mTypeError\u001b[0m: slider() takes 0 positional arguments but 1 was given"
     ]
    },
    {
     "ename": "TypeError",
     "evalue": "slider() takes 0 positional arguments but 1 was given",
     "output_type": "error",
     "traceback": [
      "\u001b[1;31m---------------------------------------------------------------------------\u001b[0m",
      "\u001b[1;31mTypeError\u001b[0m                                 Traceback (most recent call last)",
      "\u001b[1;31mTypeError\u001b[0m: slider() takes 0 positional arguments but 1 was given"
     ]
    },
    {
     "name": "stdout",
     "output_type": "stream",
     "text": [
      "0 179 0 255 54 144\n"
     ]
    },
    {
     "ename": "TypeError",
     "evalue": "slider() takes 0 positional arguments but 1 was given",
     "output_type": "error",
     "traceback": [
      "\u001b[1;31m---------------------------------------------------------------------------\u001b[0m",
      "\u001b[1;31mTypeError\u001b[0m                                 Traceback (most recent call last)",
      "\u001b[1;31mTypeError\u001b[0m: slider() takes 0 positional arguments but 1 was given"
     ]
    },
    {
     "ename": "TypeError",
     "evalue": "slider() takes 0 positional arguments but 1 was given",
     "output_type": "error",
     "traceback": [
      "\u001b[1;31m---------------------------------------------------------------------------\u001b[0m",
      "\u001b[1;31mTypeError\u001b[0m                                 Traceback (most recent call last)",
      "\u001b[1;31mTypeError\u001b[0m: slider() takes 0 positional arguments but 1 was given"
     ]
    },
    {
     "name": "stdout",
     "output_type": "stream",
     "text": [
      "0 179 0 255 60 144\n"
     ]
    },
    {
     "ename": "TypeError",
     "evalue": "slider() takes 0 positional arguments but 1 was given",
     "output_type": "error",
     "traceback": [
      "\u001b[1;31m---------------------------------------------------------------------------\u001b[0m",
      "\u001b[1;31mTypeError\u001b[0m                                 Traceback (most recent call last)",
      "\u001b[1;31mTypeError\u001b[0m: slider() takes 0 positional arguments but 1 was given"
     ]
    },
    {
     "ename": "TypeError",
     "evalue": "slider() takes 0 positional arguments but 1 was given",
     "output_type": "error",
     "traceback": [
      "\u001b[1;31m---------------------------------------------------------------------------\u001b[0m",
      "\u001b[1;31mTypeError\u001b[0m                                 Traceback (most recent call last)",
      "\u001b[1;31mTypeError\u001b[0m: slider() takes 0 positional arguments but 1 was given"
     ]
    },
    {
     "name": "stdout",
     "output_type": "stream",
     "text": [
      "0 179 0 255 68 144\n"
     ]
    },
    {
     "ename": "TypeError",
     "evalue": "slider() takes 0 positional arguments but 1 was given",
     "output_type": "error",
     "traceback": [
      "\u001b[1;31m---------------------------------------------------------------------------\u001b[0m",
      "\u001b[1;31mTypeError\u001b[0m                                 Traceback (most recent call last)",
      "\u001b[1;31mTypeError\u001b[0m: slider() takes 0 positional arguments but 1 was given"
     ]
    },
    {
     "name": "stdout",
     "output_type": "stream",
     "text": [
      "0 179 0 255 70 144\n",
      "0 179 0 255 70 144\n",
      "0 179 0 255 70 144\n",
      "0 179 0 255 70 144\n",
      "0 179 0 255 70 144\n",
      "0 179 0 255 70 144\n",
      "0 179 0 255 70 144\n",
      "0 179 0 255 70 144\n"
     ]
    },
    {
     "ename": "TypeError",
     "evalue": "slider() takes 0 positional arguments but 1 was given",
     "output_type": "error",
     "traceback": [
      "\u001b[1;31m---------------------------------------------------------------------------\u001b[0m",
      "\u001b[1;31mTypeError\u001b[0m                                 Traceback (most recent call last)",
      "\u001b[1;31mTypeError\u001b[0m: slider() takes 0 positional arguments but 1 was given"
     ]
    },
    {
     "ename": "TypeError",
     "evalue": "slider() takes 0 positional arguments but 1 was given",
     "output_type": "error",
     "traceback": [
      "\u001b[1;31m---------------------------------------------------------------------------\u001b[0m",
      "\u001b[1;31mTypeError\u001b[0m                                 Traceback (most recent call last)",
      "\u001b[1;31mTypeError\u001b[0m: slider() takes 0 positional arguments but 1 was given"
     ]
    },
    {
     "ename": "TypeError",
     "evalue": "slider() takes 0 positional arguments but 1 was given",
     "output_type": "error",
     "traceback": [
      "\u001b[1;31m---------------------------------------------------------------------------\u001b[0m",
      "\u001b[1;31mTypeError\u001b[0m                                 Traceback (most recent call last)",
      "\u001b[1;31mTypeError\u001b[0m: slider() takes 0 positional arguments but 1 was given"
     ]
    },
    {
     "name": "stdout",
     "output_type": "stream",
     "text": [
      "0 179 0 255 78 144\n"
     ]
    },
    {
     "ename": "TypeError",
     "evalue": "slider() takes 0 positional arguments but 1 was given",
     "output_type": "error",
     "traceback": [
      "\u001b[1;31m---------------------------------------------------------------------------\u001b[0m",
      "\u001b[1;31mTypeError\u001b[0m                                 Traceback (most recent call last)",
      "\u001b[1;31mTypeError\u001b[0m: slider() takes 0 positional arguments but 1 was given"
     ]
    },
    {
     "ename": "TypeError",
     "evalue": "slider() takes 0 positional arguments but 1 was given",
     "output_type": "error",
     "traceback": [
      "\u001b[1;31m---------------------------------------------------------------------------\u001b[0m",
      "\u001b[1;31mTypeError\u001b[0m                                 Traceback (most recent call last)",
      "\u001b[1;31mTypeError\u001b[0m: slider() takes 0 positional arguments but 1 was given"
     ]
    },
    {
     "ename": "TypeError",
     "evalue": "slider() takes 0 positional arguments but 1 was given",
     "output_type": "error",
     "traceback": [
      "\u001b[1;31m---------------------------------------------------------------------------\u001b[0m",
      "\u001b[1;31mTypeError\u001b[0m                                 Traceback (most recent call last)",
      "\u001b[1;31mTypeError\u001b[0m: slider() takes 0 positional arguments but 1 was given"
     ]
    },
    {
     "name": "stdout",
     "output_type": "stream",
     "text": [
      "0 179 0 255 90 144\n"
     ]
    },
    {
     "ename": "TypeError",
     "evalue": "slider() takes 0 positional arguments but 1 was given",
     "output_type": "error",
     "traceback": [
      "\u001b[1;31m---------------------------------------------------------------------------\u001b[0m",
      "\u001b[1;31mTypeError\u001b[0m                                 Traceback (most recent call last)",
      "\u001b[1;31mTypeError\u001b[0m: slider() takes 0 positional arguments but 1 was given"
     ]
    },
    {
     "ename": "TypeError",
     "evalue": "slider() takes 0 positional arguments but 1 was given",
     "output_type": "error",
     "traceback": [
      "\u001b[1;31m---------------------------------------------------------------------------\u001b[0m",
      "\u001b[1;31mTypeError\u001b[0m                                 Traceback (most recent call last)",
      "\u001b[1;31mTypeError\u001b[0m: slider() takes 0 positional arguments but 1 was given"
     ]
    },
    {
     "ename": "TypeError",
     "evalue": "slider() takes 0 positional arguments but 1 was given",
     "output_type": "error",
     "traceback": [
      "\u001b[1;31m---------------------------------------------------------------------------\u001b[0m",
      "\u001b[1;31mTypeError\u001b[0m                                 Traceback (most recent call last)",
      "\u001b[1;31mTypeError\u001b[0m: slider() takes 0 positional arguments but 1 was given"
     ]
    },
    {
     "name": "stdout",
     "output_type": "stream",
     "text": [
      "0 179 0 255 98 144\n"
     ]
    },
    {
     "ename": "TypeError",
     "evalue": "slider() takes 0 positional arguments but 1 was given",
     "output_type": "error",
     "traceback": [
      "\u001b[1;31m---------------------------------------------------------------------------\u001b[0m",
      "\u001b[1;31mTypeError\u001b[0m                                 Traceback (most recent call last)",
      "\u001b[1;31mTypeError\u001b[0m: slider() takes 0 positional arguments but 1 was given"
     ]
    },
    {
     "name": "stdout",
     "output_type": "stream",
     "text": [
      "0 179 0 255 102 144\n"
     ]
    },
    {
     "ename": "TypeError",
     "evalue": "slider() takes 0 positional arguments but 1 was given",
     "output_type": "error",
     "traceback": [
      "\u001b[1;31m---------------------------------------------------------------------------\u001b[0m",
      "\u001b[1;31mTypeError\u001b[0m                                 Traceback (most recent call last)",
      "\u001b[1;31mTypeError\u001b[0m: slider() takes 0 positional arguments but 1 was given"
     ]
    },
    {
     "ename": "TypeError",
     "evalue": "slider() takes 0 positional arguments but 1 was given",
     "output_type": "error",
     "traceback": [
      "\u001b[1;31m---------------------------------------------------------------------------\u001b[0m",
      "\u001b[1;31mTypeError\u001b[0m                                 Traceback (most recent call last)",
      "\u001b[1;31mTypeError\u001b[0m: slider() takes 0 positional arguments but 1 was given"
     ]
    },
    {
     "name": "stdout",
     "output_type": "stream",
     "text": [
      "0 179 0 255 107 144\n"
     ]
    },
    {
     "ename": "TypeError",
     "evalue": "slider() takes 0 positional arguments but 1 was given",
     "output_type": "error",
     "traceback": [
      "\u001b[1;31m---------------------------------------------------------------------------\u001b[0m",
      "\u001b[1;31mTypeError\u001b[0m                                 Traceback (most recent call last)",
      "\u001b[1;31mTypeError\u001b[0m: slider() takes 0 positional arguments but 1 was given"
     ]
    },
    {
     "name": "stdout",
     "output_type": "stream",
     "text": [
      "0 179 0 255 112 144\n"
     ]
    },
    {
     "ename": "TypeError",
     "evalue": "slider() takes 0 positional arguments but 1 was given",
     "output_type": "error",
     "traceback": [
      "\u001b[1;31m---------------------------------------------------------------------------\u001b[0m",
      "\u001b[1;31mTypeError\u001b[0m                                 Traceback (most recent call last)",
      "\u001b[1;31mTypeError\u001b[0m: slider() takes 0 positional arguments but 1 was given"
     ]
    },
    {
     "ename": "TypeError",
     "evalue": "slider() takes 0 positional arguments but 1 was given",
     "output_type": "error",
     "traceback": [
      "\u001b[1;31m---------------------------------------------------------------------------\u001b[0m",
      "\u001b[1;31mTypeError\u001b[0m                                 Traceback (most recent call last)",
      "\u001b[1;31mTypeError\u001b[0m: slider() takes 0 positional arguments but 1 was given"
     ]
    },
    {
     "name": "stdout",
     "output_type": "stream",
     "text": [
      "0 179 0 255 118 144\n"
     ]
    },
    {
     "ename": "TypeError",
     "evalue": "slider() takes 0 positional arguments but 1 was given",
     "output_type": "error",
     "traceback": [
      "\u001b[1;31m---------------------------------------------------------------------------\u001b[0m",
      "\u001b[1;31mTypeError\u001b[0m                                 Traceback (most recent call last)",
      "\u001b[1;31mTypeError\u001b[0m: slider() takes 0 positional arguments but 1 was given"
     ]
    },
    {
     "ename": "TypeError",
     "evalue": "slider() takes 0 positional arguments but 1 was given",
     "output_type": "error",
     "traceback": [
      "\u001b[1;31m---------------------------------------------------------------------------\u001b[0m",
      "\u001b[1;31mTypeError\u001b[0m                                 Traceback (most recent call last)",
      "\u001b[1;31mTypeError\u001b[0m: slider() takes 0 positional arguments but 1 was given"
     ]
    },
    {
     "ename": "TypeError",
     "evalue": "slider() takes 0 positional arguments but 1 was given",
     "output_type": "error",
     "traceback": [
      "\u001b[1;31m---------------------------------------------------------------------------\u001b[0m",
      "\u001b[1;31mTypeError\u001b[0m                                 Traceback (most recent call last)",
      "\u001b[1;31mTypeError\u001b[0m: slider() takes 0 positional arguments but 1 was given"
     ]
    },
    {
     "name": "stdout",
     "output_type": "stream",
     "text": [
      "0 179 0 255 124 144\n"
     ]
    },
    {
     "ename": "TypeError",
     "evalue": "slider() takes 0 positional arguments but 1 was given",
     "output_type": "error",
     "traceback": [
      "\u001b[1;31m---------------------------------------------------------------------------\u001b[0m",
      "\u001b[1;31mTypeError\u001b[0m                                 Traceback (most recent call last)",
      "\u001b[1;31mTypeError\u001b[0m: slider() takes 0 positional arguments but 1 was given"
     ]
    },
    {
     "name": "stdout",
     "output_type": "stream",
     "text": [
      "0 179 0 255 127 144\n"
     ]
    },
    {
     "ename": "TypeError",
     "evalue": "slider() takes 0 positional arguments but 1 was given",
     "output_type": "error",
     "traceback": [
      "\u001b[1;31m---------------------------------------------------------------------------\u001b[0m",
      "\u001b[1;31mTypeError\u001b[0m                                 Traceback (most recent call last)",
      "\u001b[1;31mTypeError\u001b[0m: slider() takes 0 positional arguments but 1 was given"
     ]
    },
    {
     "name": "stdout",
     "output_type": "stream",
     "text": [
      "0 179 0 255 130 144\n"
     ]
    },
    {
     "ename": "TypeError",
     "evalue": "slider() takes 0 positional arguments but 1 was given",
     "output_type": "error",
     "traceback": [
      "\u001b[1;31m---------------------------------------------------------------------------\u001b[0m",
      "\u001b[1;31mTypeError\u001b[0m                                 Traceback (most recent call last)",
      "\u001b[1;31mTypeError\u001b[0m: slider() takes 0 positional arguments but 1 was given"
     ]
    },
    {
     "name": "stdout",
     "output_type": "stream",
     "text": [
      "0 179 0 255 131 144\n",
      "0 179 0 255 131 144\n"
     ]
    },
    {
     "ename": "TypeError",
     "evalue": "slider() takes 0 positional arguments but 1 was given",
     "output_type": "error",
     "traceback": [
      "\u001b[1;31m---------------------------------------------------------------------------\u001b[0m",
      "\u001b[1;31mTypeError\u001b[0m                                 Traceback (most recent call last)",
      "\u001b[1;31mTypeError\u001b[0m: slider() takes 0 positional arguments but 1 was given"
     ]
    },
    {
     "name": "stdout",
     "output_type": "stream",
     "text": [
      "0 179 0 255 99 144\n"
     ]
    },
    {
     "ename": "TypeError",
     "evalue": "slider() takes 0 positional arguments but 1 was given",
     "output_type": "error",
     "traceback": [
      "\u001b[1;31m---------------------------------------------------------------------------\u001b[0m",
      "\u001b[1;31mTypeError\u001b[0m                                 Traceback (most recent call last)",
      "\u001b[1;31mTypeError\u001b[0m: slider() takes 0 positional arguments but 1 was given"
     ]
    },
    {
     "name": "stdout",
     "output_type": "stream",
     "text": [
      "0 179 0 255 94 144\n",
      "0 179 0 255 94 144\n",
      "0 179 0 255 94 144\n",
      "0 179 0 255 94 144\n",
      "0 179 0 255 94 144\n",
      "0 179 0 255 94 144\n",
      "0 179 0 255 94 144\n",
      "0 179 0 255 94 144\n",
      "0 179 0 255 94 144\n",
      "0 179 0 255 94 144\n",
      "0 179 0 255 94 144\n",
      "0 179 0 255 94 144\n",
      "0 179 0 255 94 144\n",
      "0 179 0 255 94 144\n",
      "0 179 0 255 94 144\n",
      "0 179 0 255 94 144\n",
      "0 179 0 255 94 144\n",
      "0 179 0 255 94 144\n",
      "0 179 0 255 94 144\n",
      "0 179 0 255 94 144\n",
      "0 179 0 255 94 144\n",
      "0 179 0 255 94 144\n",
      "0 179 0 255 94 144\n",
      "0 179 0 255 94 144\n",
      "0 179 0 255 94 144\n",
      "0 179 0 255 94 144\n",
      "0 179 0 255 94 144\n",
      "0 179 0 255 94 144\n",
      "0 179 0 255 94 144\n",
      "0 179 0 255 94 144\n",
      "0 179 0 255 94 144\n",
      "0 179 0 255 94 144\n",
      "0 179 0 255 94 144\n",
      "0 179 0 255 94 144\n",
      "0 179 0 255 94 144\n",
      "0 179 0 255 94 144\n",
      "0 179 0 255 94 144\n",
      "0 179 0 255 94 144\n",
      "0 179 0 255 94 144\n",
      "0 179 0 255 94 144\n",
      "0 179 0 255 94 144\n",
      "0 179 0 255 94 144\n",
      "0 179 0 255 94 144\n",
      "0 179 0 255 94 144\n",
      "0 179 0 255 94 144\n",
      "0 179 0 255 94 144\n",
      "0 179 0 255 94 144\n",
      "0 179 0 255 94 144\n",
      "0 179 0 255 94 144\n",
      "0 179 0 255 94 144\n",
      "0 179 0 255 94 144\n",
      "0 179 0 255 94 144\n",
      "0 179 0 255 94 144\n",
      "0 179 0 255 94 144\n",
      "0 179 0 255 94 144\n",
      "0 179 0 255 94 144\n",
      "0 179 0 255 94 144\n",
      "0 179 0 255 94 144\n",
      "0 179 0 255 94 144\n",
      "0 179 0 255 94 144\n",
      "0 179 0 255 94 144\n",
      "0 179 0 255 94 144\n",
      "0 179 0 255 94 144\n",
      "0 179 0 255 94 144\n",
      "0 179 0 255 94 144\n",
      "0 179 0 255 94 144\n",
      "0 179 0 255 94 144\n",
      "0 179 0 255 94 144\n",
      "0 179 0 255 94 144\n",
      "0 179 0 255 94 144\n",
      "0 179 0 255 94 144\n",
      "0 179 0 255 94 144\n",
      "0 179 0 255 94 144\n",
      "0 179 0 255 94 144\n",
      "0 179 0 255 94 144\n",
      "0 179 0 255 94 144\n",
      "0 179 0 255 94 144\n",
      "0 179 0 255 94 144\n",
      "0 179 0 255 94 144\n",
      "0 179 0 255 94 144\n",
      "0 179 0 255 94 144\n",
      "0 179 0 255 94 144\n",
      "0 179 0 255 94 144\n",
      "0 179 0 255 94 144\n",
      "0 179 0 255 94 144\n",
      "0 179 0 255 94 144\n",
      "0 179 0 255 94 144\n",
      "0 179 0 255 94 144\n",
      "0 179 0 255 94 144\n",
      "0 179 0 255 94 144\n",
      "0 179 0 255 94 144\n",
      "0 179 0 255 94 144\n",
      "0 179 0 255 94 144\n",
      "0 179 0 255 94 144\n",
      "0 179 0 255 94 144\n",
      "0 179 0 255 94 144\n",
      "0 179 0 255 94 144\n",
      "0 179 0 255 94 144\n",
      "0 179 0 255 94 144\n",
      "0 179 0 255 94 144\n",
      "0 179 0 255 94 144\n",
      "0 179 0 255 94 144\n",
      "0 179 0 255 94 144\n",
      "0 179 0 255 94 144\n",
      "0 179 0 255 94 144\n",
      "0 179 0 255 94 144\n",
      "0 179 0 255 94 144\n",
      "0 179 0 255 94 144\n",
      "0 179 0 255 94 144\n",
      "0 179 0 255 94 144\n",
      "0 179 0 255 94 144\n",
      "0 179 0 255 94 144\n",
      "0 179 0 255 94 144\n",
      "0 179 0 255 94 144\n",
      "0 179 0 255 94 144\n",
      "0 179 0 255 94 144\n",
      "0 179 0 255 94 144\n",
      "0 179 0 255 94 144\n",
      "0 179 0 255 94 144\n",
      "0 179 0 255 94 144\n",
      "0 179 0 255 94 144\n",
      "0 179 0 255 94 144\n",
      "0 179 0 255 94 144\n",
      "0 179 0 255 94 144\n",
      "0 179 0 255 94 144\n",
      "0 179 0 255 94 144\n",
      "0 179 0 255 94 144\n",
      "0 179 0 255 94 144\n",
      "0 179 0 255 94 144\n",
      "0 179 0 255 94 144\n",
      "0 179 0 255 94 144\n",
      "0 179 0 255 94 144\n",
      "0 179 0 255 94 144\n",
      "0 179 0 255 94 144\n",
      "0 179 0 255 94 144\n",
      "0 179 0 255 94 144\n",
      "0 179 0 255 94 144\n",
      "0 179 0 255 94 144\n",
      "0 179 0 255 94 144\n",
      "0 179 0 255 94 144\n",
      "0 179 0 255 94 144\n",
      "0 179 0 255 94 144\n",
      "0 179 0 255 94 144\n",
      "0 179 0 255 94 144\n",
      "0 179 0 255 94 144\n",
      "0 179 0 255 94 144\n",
      "0 179 0 255 94 144\n",
      "0 179 0 255 94 144\n",
      "0 179 0 255 94 144\n",
      "0 179 0 255 94 144\n",
      "0 179 0 255 94 144\n",
      "0 179 0 255 94 144\n",
      "0 179 0 255 94 144\n",
      "0 179 0 255 94 144\n",
      "0 179 0 255 94 144\n",
      "0 179 0 255 94 144\n",
      "0 179 0 255 94 144\n",
      "0 179 0 255 94 144\n",
      "0 179 0 255 94 144\n",
      "0 179 0 255 94 144\n",
      "0 179 0 255 94 144\n",
      "0 179 0 255 94 144\n",
      "0 179 0 255 94 144\n",
      "0 179 0 255 94 144\n",
      "0 179 0 255 94 144\n",
      "0 179 0 255 94 144\n",
      "0 179 0 255 94 144\n",
      "0 179 0 255 94 144\n",
      "0 179 0 255 94 144\n",
      "0 179 0 255 94 144\n",
      "0 179 0 255 94 144\n",
      "0 179 0 255 94 144\n",
      "0 179 0 255 94 144\n",
      "0 179 0 255 94 144\n",
      "0 179 0 255 94 144\n",
      "0 179 0 255 94 144\n",
      "0 179 0 255 94 144\n",
      "0 179 0 255 94 144\n",
      "0 179 0 255 94 144\n",
      "0 179 0 255 94 144\n",
      "0 179 0 255 94 144\n",
      "0 179 0 255 94 144\n",
      "0 179 0 255 94 144\n",
      "0 179 0 255 94 144\n",
      "0 179 0 255 94 144\n",
      "0 179 0 255 94 144\n",
      "0 179 0 255 94 144\n",
      "0 179 0 255 94 144\n",
      "0 179 0 255 94 144\n",
      "0 179 0 255 94 144\n",
      "0 179 0 255 94 144\n",
      "0 179 0 255 94 144\n",
      "0 179 0 255 94 144\n",
      "0 179 0 255 94 144\n",
      "0 179 0 255 94 144\n",
      "0 179 0 255 94 144\n",
      "0 179 0 255 94 144\n",
      "0 179 0 255 94 144\n",
      "0 179 0 255 94 144\n",
      "0 179 0 255 94 144\n",
      "0 179 0 255 94 144\n",
      "0 179 0 255 94 144\n",
      "0 179 0 255 94 144\n",
      "0 179 0 255 94 144\n",
      "0 179 0 255 94 144\n",
      "0 179 0 255 94 144\n",
      "0 179 0 255 94 144\n",
      "0 179 0 255 94 144\n",
      "0 179 0 255 94 144\n",
      "0 179 0 255 94 144\n",
      "0 179 0 255 94 144\n",
      "0 179 0 255 94 144\n",
      "0 179 0 255 94 144\n",
      "0 179 0 255 94 144\n",
      "0 179 0 255 94 144\n",
      "0 179 0 255 94 144\n",
      "0 179 0 255 94 144\n",
      "0 179 0 255 94 144\n",
      "0 179 0 255 94 144\n",
      "0 179 0 255 94 144\n",
      "0 179 0 255 94 144\n",
      "0 179 0 255 94 144\n",
      "0 179 0 255 94 144\n",
      "0 179 0 255 94 144\n",
      "0 179 0 255 94 144\n",
      "0 179 0 255 94 144\n",
      "0 179 0 255 94 144\n",
      "0 179 0 255 94 144\n",
      "0 179 0 255 94 144\n",
      "0 179 0 255 94 144\n",
      "0 179 0 255 94 144\n",
      "0 179 0 255 94 144\n",
      "0 179 0 255 94 144\n",
      "0 179 0 255 94 144\n",
      "0 179 0 255 94 144\n",
      "0 179 0 255 94 144\n",
      "0 179 0 255 94 144\n",
      "0 179 0 255 94 144\n",
      "0 179 0 255 94 144\n",
      "0 179 0 255 94 144\n",
      "0 179 0 255 94 144\n",
      "0 179 0 255 94 144\n",
      "0 179 0 255 94 144\n",
      "0 179 0 255 94 144\n",
      "0 179 0 255 94 144\n",
      "0 179 0 255 94 144\n",
      "0 179 0 255 94 144\n",
      "0 179 0 255 94 144\n",
      "0 179 0 255 94 144\n",
      "0 179 0 255 94 144\n",
      "0 179 0 255 94 144\n",
      "0 179 0 255 94 144\n",
      "0 179 0 255 94 144\n",
      "0 179 0 255 94 144\n",
      "0 179 0 255 94 144\n",
      "0 179 0 255 94 144\n",
      "0 179 0 255 94 144\n",
      "0 179 0 255 94 144\n",
      "0 179 0 255 94 144\n",
      "0 179 0 255 94 144\n",
      "0 179 0 255 94 144\n",
      "0 179 0 255 94 144\n",
      "0 179 0 255 94 144\n",
      "0 179 0 255 94 144\n",
      "0 179 0 255 94 144\n",
      "0 179 0 255 94 144\n",
      "0 179 0 255 94 144\n",
      "0 179 0 255 94 144\n",
      "0 179 0 255 94 144\n",
      "0 179 0 255 94 144\n",
      "0 179 0 255 94 144\n",
      "0 179 0 255 94 144\n",
      "0 179 0 255 94 144\n",
      "0 179 0 255 94 144\n",
      "0 179 0 255 94 144\n",
      "0 179 0 255 94 144\n",
      "0 179 0 255 94 144\n",
      "0 179 0 255 94 144\n",
      "0 179 0 255 94 144\n",
      "0 179 0 255 94 144\n",
      "0 179 0 255 94 144\n",
      "0 179 0 255 94 144\n",
      "0 179 0 255 94 144\n",
      "0 179 0 255 94 144\n",
      "0 179 0 255 94 144\n",
      "0 179 0 255 94 144\n",
      "0 179 0 255 94 144\n",
      "0 179 0 255 94 144\n",
      "0 179 0 255 94 144\n",
      "0 179 0 255 94 144\n",
      "0 179 0 255 94 144\n",
      "0 179 0 255 94 144\n",
      "0 179 0 255 94 144\n",
      "0 179 0 255 94 144\n",
      "0 179 0 255 94 144\n",
      "0 179 0 255 94 144\n",
      "0 179 0 255 94 144\n",
      "0 179 0 255 94 144\n",
      "0 179 0 255 94 144\n",
      "0 179 0 255 94 144\n",
      "0 179 0 255 94 144\n",
      "0 179 0 255 94 144\n",
      "0 179 0 255 94 144\n",
      "0 179 0 255 94 144\n",
      "0 179 0 255 94 144\n",
      "0 179 0 255 94 144\n",
      "0 179 0 255 94 144\n",
      "0 179 0 255 94 144\n",
      "0 179 0 255 94 144\n",
      "0 179 0 255 94 144\n",
      "0 179 0 255 94 144\n",
      "0 179 0 255 94 144\n",
      "0 179 0 255 94 144\n",
      "0 179 0 255 94 144\n",
      "0 179 0 255 94 144\n",
      "0 179 0 255 94 144\n",
      "0 179 0 255 94 144\n",
      "0 179 0 255 94 144\n",
      "0 179 0 255 94 144\n",
      "0 179 0 255 94 144\n",
      "0 179 0 255 94 144\n",
      "0 179 0 255 94 144\n",
      "0 179 0 255 94 144\n",
      "0 179 0 255 94 144\n",
      "0 179 0 255 94 144\n",
      "0 179 0 255 94 144\n",
      "0 179 0 255 94 144\n",
      "0 179 0 255 94 144\n",
      "0 179 0 255 94 144\n",
      "0 179 0 255 94 144\n",
      "0 179 0 255 94 144\n",
      "0 179 0 255 94 144\n",
      "0 179 0 255 94 144\n",
      "0 179 0 255 94 144\n",
      "0 179 0 255 94 144\n",
      "0 179 0 255 94 144\n",
      "0 179 0 255 94 144\n",
      "0 179 0 255 94 144\n",
      "0 179 0 255 94 144\n",
      "0 179 0 255 94 144\n",
      "0 179 0 255 94 144\n",
      "0 179 0 255 94 144\n",
      "0 179 0 255 94 144\n",
      "0 179 0 255 94 144\n",
      "0 179 0 255 94 144\n",
      "0 179 0 255 94 144\n",
      "0 179 0 255 94 144\n",
      "0 179 0 255 94 144\n",
      "0 179 0 255 94 144\n",
      "0 179 0 255 94 144\n",
      "0 179 0 255 94 144\n",
      "0 179 0 255 94 144\n",
      "0 179 0 255 94 144\n",
      "0 179 0 255 94 144\n",
      "0 179 0 255 94 144\n",
      "0 179 0 255 94 144\n",
      "0 179 0 255 94 144\n",
      "0 179 0 255 94 144\n",
      "0 179 0 255 94 144\n",
      "0 179 0 255 94 144\n",
      "0 179 0 255 94 144\n",
      "0 179 0 255 94 144\n",
      "0 179 0 255 94 144\n",
      "0 179 0 255 94 144\n",
      "0 179 0 255 94 144\n",
      "0 179 0 255 94 144\n",
      "0 179 0 255 94 144\n",
      "0 179 0 255 94 144\n",
      "0 179 0 255 94 144\n",
      "0 179 0 255 94 144\n",
      "0 179 0 255 94 144\n",
      "0 179 0 255 94 144\n",
      "0 179 0 255 94 144\n",
      "0 179 0 255 94 144\n",
      "0 179 0 255 94 144\n",
      "0 179 0 255 94 144\n",
      "0 179 0 255 94 144\n",
      "0 179 0 255 94 144\n",
      "0 179 0 255 94 144\n",
      "0 179 0 255 94 144\n",
      "0 179 0 255 94 144\n",
      "0 179 0 255 94 144\n",
      "0 179 0 255 94 144\n",
      "0 179 0 255 94 144\n",
      "0 179 0 255 94 144\n",
      "0 179 0 255 94 144\n",
      "0 179 0 255 94 144\n",
      "0 179 0 255 94 144\n",
      "0 179 0 255 94 144\n",
      "0 179 0 255 94 144\n",
      "0 179 0 255 94 144\n",
      "0 179 0 255 94 144\n",
      "0 179 0 255 94 144\n",
      "0 179 0 255 94 144\n",
      "0 179 0 255 94 144\n",
      "0 179 0 255 94 144\n",
      "0 179 0 255 94 144\n",
      "0 179 0 255 94 144\n",
      "0 179 0 255 94 144\n",
      "0 179 0 255 94 144\n",
      "0 179 0 255 94 144\n",
      "0 179 0 255 94 144\n",
      "0 179 0 255 94 144\n",
      "0 179 0 255 94 144\n",
      "0 179 0 255 94 144\n",
      "0 179 0 255 94 144\n",
      "0 179 0 255 94 144\n",
      "0 179 0 255 94 144\n",
      "0 179 0 255 94 144\n",
      "0 179 0 255 94 144\n",
      "0 179 0 255 94 144\n",
      "0 179 0 255 94 144\n",
      "0 179 0 255 94 144\n",
      "0 179 0 255 94 144\n",
      "0 179 0 255 94 144\n",
      "0 179 0 255 94 144\n",
      "0 179 0 255 94 144\n",
      "0 179 0 255 94 144\n",
      "0 179 0 255 94 144\n",
      "0 179 0 255 94 144\n",
      "0 179 0 255 94 144\n",
      "0 179 0 255 94 144\n",
      "0 179 0 255 94 144\n",
      "0 179 0 255 94 144\n",
      "0 179 0 255 94 144\n",
      "0 179 0 255 94 144\n",
      "0 179 0 255 94 144\n",
      "0 179 0 255 94 144\n",
      "0 179 0 255 94 144\n",
      "0 179 0 255 94 144\n",
      "0 179 0 255 94 144\n",
      "0 179 0 255 94 144\n",
      "0 179 0 255 94 144\n",
      "0 179 0 255 94 144\n",
      "0 179 0 255 94 144\n",
      "0 179 0 255 94 144\n",
      "0 179 0 255 94 144\n",
      "0 179 0 255 94 144\n",
      "0 179 0 255 94 144\n",
      "0 179 0 255 94 144\n",
      "0 179 0 255 94 144\n",
      "0 179 0 255 94 144\n",
      "0 179 0 255 94 144\n",
      "0 179 0 255 94 144\n",
      "0 179 0 255 94 144\n",
      "0 179 0 255 94 144\n",
      "0 179 0 255 94 144\n",
      "0 179 0 255 94 144\n",
      "0 179 0 255 94 144\n",
      "0 179 0 255 94 144\n",
      "0 179 0 255 94 144\n",
      "0 179 0 255 94 144\n",
      "0 179 0 255 94 144\n",
      "0 179 0 255 94 144\n",
      "0 179 0 255 94 144\n",
      "0 179 0 255 94 144\n",
      "0 179 0 255 94 144\n",
      "0 179 0 255 94 144\n",
      "0 179 0 255 94 144\n",
      "0 179 0 255 94 144\n",
      "0 179 0 255 94 144\n",
      "0 179 0 255 94 144\n",
      "0 179 0 255 94 144\n",
      "0 179 0 255 94 144\n",
      "0 179 0 255 94 144\n",
      "0 179 0 255 94 144\n",
      "0 179 0 255 94 144\n",
      "0 179 0 255 94 144\n",
      "0 179 0 255 94 144\n",
      "0 179 0 255 94 144\n",
      "0 179 0 255 94 144\n",
      "0 179 0 255 94 144\n",
      "0 179 0 255 94 144\n",
      "0 179 0 255 94 144\n",
      "0 179 0 255 94 144\n",
      "0 179 0 255 94 144\n",
      "0 179 0 255 94 144\n",
      "0 179 0 255 94 144\n",
      "0 179 0 255 94 144\n",
      "0 179 0 255 94 144\n",
      "0 179 0 255 94 144\n",
      "0 179 0 255 94 144\n",
      "0 179 0 255 94 144\n",
      "0 179 0 255 94 144\n",
      "0 179 0 255 94 144\n",
      "0 179 0 255 94 144\n",
      "0 179 0 255 94 144\n",
      "0 179 0 255 94 144\n",
      "0 179 0 255 94 144\n",
      "0 179 0 255 94 144\n",
      "0 179 0 255 94 144\n",
      "0 179 0 255 94 144\n",
      "0 179 0 255 94 144\n",
      "0 179 0 255 94 144\n",
      "0 179 0 255 94 144\n",
      "0 179 0 255 94 144\n",
      "0 179 0 255 94 144\n",
      "0 179 0 255 94 144\n",
      "0 179 0 255 94 144\n",
      "0 179 0 255 94 144\n",
      "0 179 0 255 94 144\n",
      "0 179 0 255 94 144\n",
      "0 179 0 255 94 144\n",
      "0 179 0 255 94 144\n",
      "0 179 0 255 94 144\n",
      "0 179 0 255 94 144\n",
      "0 179 0 255 94 144\n",
      "0 179 0 255 94 144\n"
     ]
    },
    {
     "ename": "TypeError",
     "evalue": "slider() takes 0 positional arguments but 1 was given",
     "output_type": "error",
     "traceback": [
      "\u001b[1;31m---------------------------------------------------------------------------\u001b[0m",
      "\u001b[1;31mTypeError\u001b[0m                                 Traceback (most recent call last)",
      "\u001b[1;31mTypeError\u001b[0m: slider() takes 0 positional arguments but 1 was given"
     ]
    },
    {
     "name": "stdout",
     "output_type": "stream",
     "text": [
      "0 179 0 255 96 144\n"
     ]
    },
    {
     "ename": "TypeError",
     "evalue": "slider() takes 0 positional arguments but 1 was given",
     "output_type": "error",
     "traceback": [
      "\u001b[1;31m---------------------------------------------------------------------------\u001b[0m",
      "\u001b[1;31mTypeError\u001b[0m                                 Traceback (most recent call last)",
      "\u001b[1;31mTypeError\u001b[0m: slider() takes 0 positional arguments but 1 was given"
     ]
    },
    {
     "name": "stdout",
     "output_type": "stream",
     "text": [
      "0 179 0 255 100 144\n"
     ]
    },
    {
     "ename": "TypeError",
     "evalue": "slider() takes 0 positional arguments but 1 was given",
     "output_type": "error",
     "traceback": [
      "\u001b[1;31m---------------------------------------------------------------------------\u001b[0m",
      "\u001b[1;31mTypeError\u001b[0m                                 Traceback (most recent call last)",
      "\u001b[1;31mTypeError\u001b[0m: slider() takes 0 positional arguments but 1 was given"
     ]
    },
    {
     "name": "stdout",
     "output_type": "stream",
     "text": [
      "0 179 0 255 103 144\n"
     ]
    },
    {
     "ename": "TypeError",
     "evalue": "slider() takes 0 positional arguments but 1 was given",
     "output_type": "error",
     "traceback": [
      "\u001b[1;31m---------------------------------------------------------------------------\u001b[0m",
      "\u001b[1;31mTypeError\u001b[0m                                 Traceback (most recent call last)",
      "\u001b[1;31mTypeError\u001b[0m: slider() takes 0 positional arguments but 1 was given"
     ]
    },
    {
     "name": "stdout",
     "output_type": "stream",
     "text": [
      "0 179 0 255 105 144\n"
     ]
    },
    {
     "ename": "TypeError",
     "evalue": "slider() takes 0 positional arguments but 1 was given",
     "output_type": "error",
     "traceback": [
      "\u001b[1;31m---------------------------------------------------------------------------\u001b[0m",
      "\u001b[1;31mTypeError\u001b[0m                                 Traceback (most recent call last)",
      "\u001b[1;31mTypeError\u001b[0m: slider() takes 0 positional arguments but 1 was given"
     ]
    },
    {
     "name": "stdout",
     "output_type": "stream",
     "text": [
      "0 179 0 255 107 144\n"
     ]
    },
    {
     "ename": "TypeError",
     "evalue": "slider() takes 0 positional arguments but 1 was given",
     "output_type": "error",
     "traceback": [
      "\u001b[1;31m---------------------------------------------------------------------------\u001b[0m",
      "\u001b[1;31mTypeError\u001b[0m                                 Traceback (most recent call last)",
      "\u001b[1;31mTypeError\u001b[0m: slider() takes 0 positional arguments but 1 was given"
     ]
    },
    {
     "name": "stdout",
     "output_type": "stream",
     "text": [
      "0 179 0 255 109 144\n"
     ]
    },
    {
     "ename": "TypeError",
     "evalue": "slider() takes 0 positional arguments but 1 was given",
     "output_type": "error",
     "traceback": [
      "\u001b[1;31m---------------------------------------------------------------------------\u001b[0m",
      "\u001b[1;31mTypeError\u001b[0m                                 Traceback (most recent call last)",
      "\u001b[1;31mTypeError\u001b[0m: slider() takes 0 positional arguments but 1 was given"
     ]
    },
    {
     "name": "stdout",
     "output_type": "stream",
     "text": [
      "0 179 0 255 111 144\n"
     ]
    },
    {
     "ename": "TypeError",
     "evalue": "slider() takes 0 positional arguments but 1 was given",
     "output_type": "error",
     "traceback": [
      "\u001b[1;31m---------------------------------------------------------------------------\u001b[0m",
      "\u001b[1;31mTypeError\u001b[0m                                 Traceback (most recent call last)",
      "\u001b[1;31mTypeError\u001b[0m: slider() takes 0 positional arguments but 1 was given"
     ]
    },
    {
     "name": "stdout",
     "output_type": "stream",
     "text": [
      "0 179 0 255 114 144\n"
     ]
    },
    {
     "ename": "TypeError",
     "evalue": "slider() takes 0 positional arguments but 1 was given",
     "output_type": "error",
     "traceback": [
      "\u001b[1;31m---------------------------------------------------------------------------\u001b[0m",
      "\u001b[1;31mTypeError\u001b[0m                                 Traceback (most recent call last)",
      "\u001b[1;31mTypeError\u001b[0m: slider() takes 0 positional arguments but 1 was given"
     ]
    },
    {
     "name": "stdout",
     "output_type": "stream",
     "text": [
      "0 179 0 255 116 144\n"
     ]
    },
    {
     "ename": "TypeError",
     "evalue": "slider() takes 0 positional arguments but 1 was given",
     "output_type": "error",
     "traceback": [
      "\u001b[1;31m---------------------------------------------------------------------------\u001b[0m",
      "\u001b[1;31mTypeError\u001b[0m                                 Traceback (most recent call last)",
      "\u001b[1;31mTypeError\u001b[0m: slider() takes 0 positional arguments but 1 was given"
     ]
    },
    {
     "name": "stdout",
     "output_type": "stream",
     "text": [
      "0 179 0 255 119 144\n"
     ]
    },
    {
     "ename": "TypeError",
     "evalue": "slider() takes 0 positional arguments but 1 was given",
     "output_type": "error",
     "traceback": [
      "\u001b[1;31m---------------------------------------------------------------------------\u001b[0m",
      "\u001b[1;31mTypeError\u001b[0m                                 Traceback (most recent call last)",
      "\u001b[1;31mTypeError\u001b[0m: slider() takes 0 positional arguments but 1 was given"
     ]
    },
    {
     "name": "stdout",
     "output_type": "stream",
     "text": [
      "0 179 0 255 123 144\n"
     ]
    },
    {
     "ename": "TypeError",
     "evalue": "slider() takes 0 positional arguments but 1 was given",
     "output_type": "error",
     "traceback": [
      "\u001b[1;31m---------------------------------------------------------------------------\u001b[0m",
      "\u001b[1;31mTypeError\u001b[0m                                 Traceback (most recent call last)",
      "\u001b[1;31mTypeError\u001b[0m: slider() takes 0 positional arguments but 1 was given"
     ]
    },
    {
     "ename": "TypeError",
     "evalue": "slider() takes 0 positional arguments but 1 was given",
     "output_type": "error",
     "traceback": [
      "\u001b[1;31m---------------------------------------------------------------------------\u001b[0m",
      "\u001b[1;31mTypeError\u001b[0m                                 Traceback (most recent call last)",
      "\u001b[1;31mTypeError\u001b[0m: slider() takes 0 positional arguments but 1 was given"
     ]
    },
    {
     "name": "stdout",
     "output_type": "stream",
     "text": [
      "0 179 0 255 127 144\n"
     ]
    },
    {
     "ename": "TypeError",
     "evalue": "slider() takes 0 positional arguments but 1 was given",
     "output_type": "error",
     "traceback": [
      "\u001b[1;31m---------------------------------------------------------------------------\u001b[0m",
      "\u001b[1;31mTypeError\u001b[0m                                 Traceback (most recent call last)",
      "\u001b[1;31mTypeError\u001b[0m: slider() takes 0 positional arguments but 1 was given"
     ]
    },
    {
     "name": "stdout",
     "output_type": "stream",
     "text": [
      "0 179 0 255 130 144\n"
     ]
    },
    {
     "ename": "TypeError",
     "evalue": "slider() takes 0 positional arguments but 1 was given",
     "output_type": "error",
     "traceback": [
      "\u001b[1;31m---------------------------------------------------------------------------\u001b[0m",
      "\u001b[1;31mTypeError\u001b[0m                                 Traceback (most recent call last)",
      "\u001b[1;31mTypeError\u001b[0m: slider() takes 0 positional arguments but 1 was given"
     ]
    },
    {
     "name": "stdout",
     "output_type": "stream",
     "text": [
      "0 179 0 255 132 144\n"
     ]
    },
    {
     "ename": "TypeError",
     "evalue": "slider() takes 0 positional arguments but 1 was given",
     "output_type": "error",
     "traceback": [
      "\u001b[1;31m---------------------------------------------------------------------------\u001b[0m",
      "\u001b[1;31mTypeError\u001b[0m                                 Traceback (most recent call last)",
      "\u001b[1;31mTypeError\u001b[0m: slider() takes 0 positional arguments but 1 was given"
     ]
    },
    {
     "ename": "TypeError",
     "evalue": "slider() takes 0 positional arguments but 1 was given",
     "output_type": "error",
     "traceback": [
      "\u001b[1;31m---------------------------------------------------------------------------\u001b[0m",
      "\u001b[1;31mTypeError\u001b[0m                                 Traceback (most recent call last)",
      "\u001b[1;31mTypeError\u001b[0m: slider() takes 0 positional arguments but 1 was given"
     ]
    },
    {
     "name": "stdout",
     "output_type": "stream",
     "text": [
      "0 179 0 255 135 144\n"
     ]
    },
    {
     "ename": "TypeError",
     "evalue": "slider() takes 0 positional arguments but 1 was given",
     "output_type": "error",
     "traceback": [
      "\u001b[1;31m---------------------------------------------------------------------------\u001b[0m",
      "\u001b[1;31mTypeError\u001b[0m                                 Traceback (most recent call last)",
      "\u001b[1;31mTypeError\u001b[0m: slider() takes 0 positional arguments but 1 was given"
     ]
    },
    {
     "name": "stdout",
     "output_type": "stream",
     "text": [
      "0 179 0 255 138 144\n"
     ]
    },
    {
     "ename": "TypeError",
     "evalue": "slider() takes 0 positional arguments but 1 was given",
     "output_type": "error",
     "traceback": [
      "\u001b[1;31m---------------------------------------------------------------------------\u001b[0m",
      "\u001b[1;31mTypeError\u001b[0m                                 Traceback (most recent call last)",
      "\u001b[1;31mTypeError\u001b[0m: slider() takes 0 positional arguments but 1 was given"
     ]
    },
    {
     "ename": "TypeError",
     "evalue": "slider() takes 0 positional arguments but 1 was given",
     "output_type": "error",
     "traceback": [
      "\u001b[1;31m---------------------------------------------------------------------------\u001b[0m",
      "\u001b[1;31mTypeError\u001b[0m                                 Traceback (most recent call last)",
      "\u001b[1;31mTypeError\u001b[0m: slider() takes 0 positional arguments but 1 was given"
     ]
    },
    {
     "name": "stdout",
     "output_type": "stream",
     "text": [
      "0 179 0 255 141 144\n"
     ]
    },
    {
     "ename": "TypeError",
     "evalue": "slider() takes 0 positional arguments but 1 was given",
     "output_type": "error",
     "traceback": [
      "\u001b[1;31m---------------------------------------------------------------------------\u001b[0m",
      "\u001b[1;31mTypeError\u001b[0m                                 Traceback (most recent call last)",
      "\u001b[1;31mTypeError\u001b[0m: slider() takes 0 positional arguments but 1 was given"
     ]
    },
    {
     "name": "stdout",
     "output_type": "stream",
     "text": [
      "0 179 0 255 144 144\n"
     ]
    },
    {
     "ename": "TypeError",
     "evalue": "slider() takes 0 positional arguments but 1 was given",
     "output_type": "error",
     "traceback": [
      "\u001b[1;31m---------------------------------------------------------------------------\u001b[0m",
      "\u001b[1;31mTypeError\u001b[0m                                 Traceback (most recent call last)",
      "\u001b[1;31mTypeError\u001b[0m: slider() takes 0 positional arguments but 1 was given"
     ]
    },
    {
     "ename": "TypeError",
     "evalue": "slider() takes 0 positional arguments but 1 was given",
     "output_type": "error",
     "traceback": [
      "\u001b[1;31m---------------------------------------------------------------------------\u001b[0m",
      "\u001b[1;31mTypeError\u001b[0m                                 Traceback (most recent call last)",
      "\u001b[1;31mTypeError\u001b[0m: slider() takes 0 positional arguments but 1 was given"
     ]
    },
    {
     "name": "stdout",
     "output_type": "stream",
     "text": [
      "0 179 0 255 147 144\n"
     ]
    },
    {
     "ename": "TypeError",
     "evalue": "slider() takes 0 positional arguments but 1 was given",
     "output_type": "error",
     "traceback": [
      "\u001b[1;31m---------------------------------------------------------------------------\u001b[0m",
      "\u001b[1;31mTypeError\u001b[0m                                 Traceback (most recent call last)",
      "\u001b[1;31mTypeError\u001b[0m: slider() takes 0 positional arguments but 1 was given"
     ]
    },
    {
     "ename": "TypeError",
     "evalue": "slider() takes 0 positional arguments but 1 was given",
     "output_type": "error",
     "traceback": [
      "\u001b[1;31m---------------------------------------------------------------------------\u001b[0m",
      "\u001b[1;31mTypeError\u001b[0m                                 Traceback (most recent call last)",
      "\u001b[1;31mTypeError\u001b[0m: slider() takes 0 positional arguments but 1 was given"
     ]
    },
    {
     "name": "stdout",
     "output_type": "stream",
     "text": [
      "0 179 0 255 150 144\n"
     ]
    },
    {
     "ename": "TypeError",
     "evalue": "slider() takes 0 positional arguments but 1 was given",
     "output_type": "error",
     "traceback": [
      "\u001b[1;31m---------------------------------------------------------------------------\u001b[0m",
      "\u001b[1;31mTypeError\u001b[0m                                 Traceback (most recent call last)",
      "\u001b[1;31mTypeError\u001b[0m: slider() takes 0 positional arguments but 1 was given"
     ]
    },
    {
     "ename": "TypeError",
     "evalue": "slider() takes 0 positional arguments but 1 was given",
     "output_type": "error",
     "traceback": [
      "\u001b[1;31m---------------------------------------------------------------------------\u001b[0m",
      "\u001b[1;31mTypeError\u001b[0m                                 Traceback (most recent call last)",
      "\u001b[1;31mTypeError\u001b[0m: slider() takes 0 positional arguments but 1 was given"
     ]
    },
    {
     "name": "stdout",
     "output_type": "stream",
     "text": [
      "0 179 0 255 153 144\n"
     ]
    },
    {
     "ename": "TypeError",
     "evalue": "slider() takes 0 positional arguments but 1 was given",
     "output_type": "error",
     "traceback": [
      "\u001b[1;31m---------------------------------------------------------------------------\u001b[0m",
      "\u001b[1;31mTypeError\u001b[0m                                 Traceback (most recent call last)",
      "\u001b[1;31mTypeError\u001b[0m: slider() takes 0 positional arguments but 1 was given"
     ]
    },
    {
     "name": "stdout",
     "output_type": "stream",
     "text": [
      "0 179 0 255 155 144\n"
     ]
    },
    {
     "ename": "TypeError",
     "evalue": "slider() takes 0 positional arguments but 1 was given",
     "output_type": "error",
     "traceback": [
      "\u001b[1;31m---------------------------------------------------------------------------\u001b[0m",
      "\u001b[1;31mTypeError\u001b[0m                                 Traceback (most recent call last)",
      "\u001b[1;31mTypeError\u001b[0m: slider() takes 0 positional arguments but 1 was given"
     ]
    },
    {
     "name": "stdout",
     "output_type": "stream",
     "text": [
      "0 179 0 255 156 144\n"
     ]
    },
    {
     "ename": "TypeError",
     "evalue": "slider() takes 0 positional arguments but 1 was given",
     "output_type": "error",
     "traceback": [
      "\u001b[1;31m---------------------------------------------------------------------------\u001b[0m",
      "\u001b[1;31mTypeError\u001b[0m                                 Traceback (most recent call last)",
      "\u001b[1;31mTypeError\u001b[0m: slider() takes 0 positional arguments but 1 was given"
     ]
    },
    {
     "name": "stdout",
     "output_type": "stream",
     "text": [
      "0 179 0 255 157 144\n",
      "0 179 0 255 157 144\n",
      "0 179 0 255 157 144\n",
      "0 179 0 255 157 144\n",
      "0 179 0 255 157 144\n",
      "0 179 0 255 157 144\n",
      "0 179 0 255 157 144\n",
      "0 179 0 255 157 144\n",
      "0 179 0 255 157 144\n",
      "0 179 0 255 157 144\n",
      "0 179 0 255 157 144\n",
      "0 179 0 255 157 144\n",
      "0 179 0 255 157 144\n",
      "0 179 0 255 157 144\n",
      "0 179 0 255 157 144\n",
      "0 179 0 255 157 144\n",
      "0 179 0 255 157 144\n",
      "0 179 0 255 157 144\n",
      "0 179 0 255 157 144\n",
      "0 179 0 255 157 144\n",
      "0 179 0 255 157 144\n",
      "0 179 0 255 157 144\n",
      "0 179 0 255 157 144\n",
      "0 179 0 255 157 144\n",
      "0 179 0 255 157 144\n",
      "0 179 0 255 157 144\n",
      "0 179 0 255 157 144\n",
      "0 179 0 255 157 144\n",
      "0 179 0 255 157 144\n",
      "0 179 0 255 157 144\n",
      "0 179 0 255 157 144\n",
      "0 179 0 255 157 144\n",
      "0 179 0 255 157 144\n",
      "0 179 0 255 157 144\n",
      "0 179 0 255 157 144\n",
      "0 179 0 255 157 144\n",
      "0 179 0 255 157 144\n",
      "0 179 0 255 157 144\n",
      "0 179 0 255 157 144\n",
      "0 179 0 255 157 144\n",
      "0 179 0 255 157 144\n",
      "0 179 0 255 157 144\n",
      "0 179 0 255 157 144\n",
      "0 179 0 255 157 144\n",
      "0 179 0 255 157 144\n",
      "0 179 0 255 157 144\n",
      "0 179 0 255 157 144\n",
      "0 179 0 255 157 144\n",
      "0 179 0 255 157 144\n",
      "0 179 0 255 157 144\n",
      "0 179 0 255 157 144\n",
      "0 179 0 255 157 144\n",
      "0 179 0 255 157 144\n",
      "0 179 0 255 157 144\n",
      "0 179 0 255 157 144\n",
      "0 179 0 255 157 144\n",
      "0 179 0 255 157 144\n",
      "0 179 0 255 157 144\n",
      "0 179 0 255 157 144\n",
      "0 179 0 255 157 144\n",
      "0 179 0 255 157 144\n",
      "0 179 0 255 157 144\n",
      "0 179 0 255 157 144\n",
      "0 179 0 255 157 144\n",
      "0 179 0 255 157 144\n",
      "0 179 0 255 157 144\n",
      "0 179 0 255 157 144\n",
      "0 179 0 255 157 144\n",
      "0 179 0 255 157 144\n",
      "0 179 0 255 157 144\n",
      "0 179 0 255 157 144\n",
      "0 179 0 255 157 144\n",
      "0 179 0 255 157 144\n"
     ]
    },
    {
     "ename": "TypeError",
     "evalue": "slider() takes 0 positional arguments but 1 was given",
     "output_type": "error",
     "traceback": [
      "\u001b[1;31m---------------------------------------------------------------------------\u001b[0m",
      "\u001b[1;31mTypeError\u001b[0m                                 Traceback (most recent call last)",
      "\u001b[1;31mTypeError\u001b[0m: slider() takes 0 positional arguments but 1 was given"
     ]
    },
    {
     "name": "stdout",
     "output_type": "stream",
     "text": [
      "0 179 51 255 157 144\n",
      "0 179 51 255 157 144\n",
      "0 179 51 255 157 144\n",
      "0 179 51 255 157 144\n",
      "0 179 51 255 157 144\n",
      "0 179 51 255 157 144\n",
      "0 179 51 255 157 144\n",
      "0 179 51 255 157 144\n",
      "0 179 51 255 157 144\n",
      "0 179 51 255 157 144\n",
      "0 179 51 255 157 144\n",
      "0 179 51 255 157 144\n",
      "0 179 51 255 157 144\n",
      "0 179 51 255 157 144\n",
      "0 179 51 255 157 144\n"
     ]
    },
    {
     "ename": "TypeError",
     "evalue": "slider() takes 0 positional arguments but 1 was given",
     "output_type": "error",
     "traceback": [
      "\u001b[1;31m---------------------------------------------------------------------------\u001b[0m",
      "\u001b[1;31mTypeError\u001b[0m                                 Traceback (most recent call last)",
      "\u001b[1;31mTypeError\u001b[0m: slider() takes 0 positional arguments but 1 was given"
     ]
    },
    {
     "name": "stdout",
     "output_type": "stream",
     "text": [
      "0 179 102 255 157 144\n",
      "0 179 102 255 157 144\n",
      "0 179 102 255 157 144\n",
      "0 179 102 255 157 144\n",
      "0 179 102 255 157 144\n",
      "0 179 102 255 157 144\n",
      "0 179 102 255 157 144\n",
      "0 179 102 255 157 144\n",
      "0 179 102 255 157 144\n",
      "0 179 102 255 157 144\n",
      "0 179 102 255 157 144\n",
      "0 179 102 255 157 144\n",
      "0 179 102 255 157 144\n",
      "0 179 102 255 157 144\n",
      "0 179 102 255 157 144\n",
      "0 179 102 255 157 144\n",
      "0 179 102 255 157 144\n",
      "0 179 102 255 157 144\n",
      "0 179 102 255 157 144\n",
      "0 179 102 255 157 144\n",
      "0 179 102 255 157 144\n",
      "0 179 102 255 157 144\n",
      "0 179 102 255 157 144\n",
      "0 179 102 255 157 144\n",
      "0 179 102 255 157 144\n",
      "0 179 102 255 157 144\n",
      "0 179 102 255 157 144\n",
      "0 179 102 255 157 144\n",
      "0 179 102 255 157 144\n",
      "0 179 102 255 157 144\n",
      "0 179 102 255 157 144\n",
      "0 179 102 255 157 144\n",
      "0 179 102 255 157 144\n",
      "0 179 102 255 157 144\n",
      "0 179 102 255 157 144\n",
      "0 179 102 255 157 144\n",
      "0 179 102 255 157 144\n",
      "0 179 102 255 157 144\n",
      "0 179 102 255 157 144\n",
      "0 179 102 255 157 144\n",
      "0 179 102 255 157 144\n",
      "0 179 102 255 157 144\n",
      "0 179 102 255 157 144\n",
      "0 179 102 255 157 144\n",
      "0 179 102 255 157 144\n",
      "0 179 102 255 157 144\n",
      "0 179 102 255 157 144\n",
      "0 179 102 255 157 144\n",
      "0 179 102 255 157 144\n",
      "0 179 102 255 157 144\n",
      "0 179 102 255 157 144\n",
      "0 179 102 255 157 144\n",
      "0 179 102 255 157 144\n",
      "0 179 102 255 157 144\n",
      "0 179 102 255 157 144\n"
     ]
    },
    {
     "ename": "error",
     "evalue": "OpenCV(4.5.5) D:\\a\\opencv-python\\opencv-python\\opencv\\modules\\highgui\\src\\window_w32.cpp:2581: error: (-27:Null pointer) NULL window: 'Bars' in function 'cvGetTrackbarPos'\n",
     "output_type": "error",
     "traceback": [
      "\u001b[1;31m---------------------------------------------------------------------------\u001b[0m",
      "\u001b[1;31merror\u001b[0m                                     Traceback (most recent call last)",
      "\u001b[1;32m~\\AppData\\Local\\Temp/ipykernel_8240/2797198241.py\u001b[0m in \u001b[0;36m<module>\u001b[1;34m\u001b[0m\n\u001b[0;32m     31\u001b[0m       \u001b[0mhsv_img\u001b[0m\u001b[1;33m=\u001b[0m \u001b[0mcv\u001b[0m\u001b[1;33m.\u001b[0m\u001b[0mcvtColor\u001b[0m\u001b[1;33m(\u001b[0m\u001b[0mimg\u001b[0m\u001b[1;33m,\u001b[0m \u001b[0mcv\u001b[0m\u001b[1;33m.\u001b[0m\u001b[0mCOLOR_BGR2HSV\u001b[0m\u001b[1;33m)\u001b[0m\u001b[1;33m\u001b[0m\u001b[1;33m\u001b[0m\u001b[0m\n\u001b[0;32m     32\u001b[0m \u001b[1;33m\u001b[0m\u001b[0m\n\u001b[1;32m---> 33\u001b[1;33m       \u001b[0mhue_min\u001b[0m\u001b[1;33m=\u001b[0m\u001b[0mcv\u001b[0m\u001b[1;33m.\u001b[0m\u001b[0mgetTrackbarPos\u001b[0m\u001b[1;33m(\u001b[0m\u001b[1;34m'Hue Min'\u001b[0m\u001b[1;33m,\u001b[0m \u001b[1;34m'Bars'\u001b[0m\u001b[1;33m)\u001b[0m\u001b[1;33m\u001b[0m\u001b[1;33m\u001b[0m\u001b[0m\n\u001b[0m\u001b[0;32m     34\u001b[0m       \u001b[0mhue_max\u001b[0m\u001b[1;33m=\u001b[0m\u001b[0mcv\u001b[0m\u001b[1;33m.\u001b[0m\u001b[0mgetTrackbarPos\u001b[0m\u001b[1;33m(\u001b[0m\u001b[1;34m'Hue Max'\u001b[0m\u001b[1;33m,\u001b[0m \u001b[1;34m'Bars'\u001b[0m\u001b[1;33m)\u001b[0m\u001b[1;33m\u001b[0m\u001b[1;33m\u001b[0m\u001b[0m\n\u001b[0;32m     35\u001b[0m       \u001b[0msat_min\u001b[0m\u001b[1;33m=\u001b[0m\u001b[0mcv\u001b[0m\u001b[1;33m.\u001b[0m\u001b[0mgetTrackbarPos\u001b[0m\u001b[1;33m(\u001b[0m\u001b[1;34m'Sat Min'\u001b[0m\u001b[1;33m,\u001b[0m \u001b[1;34m'Bars'\u001b[0m\u001b[1;33m)\u001b[0m\u001b[1;33m\u001b[0m\u001b[1;33m\u001b[0m\u001b[0m\n",
      "\u001b[1;31merror\u001b[0m: OpenCV(4.5.5) D:\\a\\opencv-python\\opencv-python\\opencv\\modules\\highgui\\src\\window_w32.cpp:2581: error: (-27:Null pointer) NULL window: 'Bars' in function 'cvGetTrackbarPos'\n"
     ]
    }
   ],
   "source": [
    "# how to detect specific color inside python in pics \n",
    "\n",
    "import cv2 as cv \n",
    "import numpy as np \n",
    "\n",
    "img=cv.imread('islam.JPEG')\n",
    "img=cv.resize(img, 250,250)\n",
    "\n",
    "#convert into HSV (Hue, Saturation, value)\n",
    "#hsv_img= cv.cvtColor(img,cv.COLOR_BGR2HSV)\n",
    "\n",
    "#slider\n",
    "\n",
    "def slider():\n",
    "    pass\n",
    "\n",
    "path= 'islam.JPEG'\n",
    "\n",
    "\n",
    "cv.namedWindow(\"Bars\")\n",
    "cv.resizeWindow(\"Bars\",900,300)\n",
    "\n",
    "cv.createTrackbar('Hue Min', 'Bars', 0,179,slider)\n",
    "cv.createTrackbar('Hue Max', 'Bars', 179,179,slider)\n",
    "cv.createTrackbar('Sat Min', 'Bars', 0,255,slider)\n",
    "cv.createTrackbar('Sat Max', 'Bars', 255,255,slider)\n",
    "cv.createTrackbar('Val Min', 'Bars', 0,255,slider)\n",
    "cv.createTrackbar('Val Max', 'Bars', 255,255,slider)\n",
    "\n",
    "while True:\n",
    "      img= cv.imread(path)\n",
    "      hsv_img= cv.cvtColor(img, cv.COLOR_BGR2HSV)\n",
    "\n",
    "      hue_min=cv.getTrackbarPos('Hue Min', 'Bars')\n",
    "      hue_max=cv.getTrackbarPos('Hue Max', 'Bars')\n",
    "      sat_min=cv.getTrackbarPos('Sat Min', 'Bars')\n",
    "      sat_max=cv.getTrackbarPos('Sat Max', 'Bars')\n",
    "      val_min=cv.getTrackbarPos('Val Min', 'Bars')\n",
    "      val_max=cv.getTrackbarPos('Val Max', 'Bars')\n",
    "      \n",
    "      print(hue_min,hue_max,sat_min,sat_max,val_min,val_max)\n",
    "# to see changes inside images\n",
    "      lower= np.array[hue_min,sat_min,sat_min]\n",
    "      upper= np.array[hue_max,sat_max,val_max]\n",
    "\n",
    "      mask_img=cv.inRange(hsv_img,lower,upper)\n",
    "      out_img=cv.bitwise_and(img,img,mask=mask_img)\n",
    "      cv.imshow('Original', img)\n",
    "      cv.imshow('HSV', hsv_img)\n",
    "      cv.imshow('mask', mask_img)\n",
    "      cv.imshow('final', out_img)\n",
    "      if cv.waitKey(1) & 0xff == ord('q'):\n",
    "          break \n",
    "\n",
    "cv.destroyAllWindows()\n",
    "\n",
    "\n",
    "\n",
    "\n",
    "\n"
   ]
  },
  {
   "cell_type": "code",
   "execution_count": null,
   "metadata": {},
   "outputs": [],
   "source": []
  }
 ],
 "metadata": {
  "interpreter": {
   "hash": "5ce1028be8e515692f6fd691475cddc273996f1e08399b9033d41b7f6acd6d03"
  },
  "kernelspec": {
   "display_name": "Python 3.9.7 ('base')",
   "language": "python",
   "name": "python3"
  },
  "language_info": {
   "codemirror_mode": {
    "name": "ipython",
    "version": 3
   },
   "file_extension": ".py",
   "mimetype": "text/x-python",
   "name": "python",
   "nbconvert_exporter": "python",
   "pygments_lexer": "ipython3",
   "version": "3.9.7"
  },
  "orig_nbformat": 4
 },
 "nbformat": 4,
 "nbformat_minor": 2
}
