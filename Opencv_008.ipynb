{
 "cells": [
  {
   "cell_type": "code",
   "execution_count": 1,
   "metadata": {},
   "outputs": [],
   "source": [
    "# video into B&W\n",
    "import cv2 as cv \n",
    "from matplotlib.colors import is_color_like\n",
    " \n",
    "cap=cv.VideoCapture('data_for_cv/Enza home.MP4')\n",
    "# writting format , codec , video writer and object file \n",
    "frame_width= int(cap.get(3))\n",
    "frame_height= int(cap.get(4))\n",
    "out= cv.VideoWriter(\"data_for_cv/out_video.avi\", cv.VideoWriter_fourcc('M','J','P','G'),10, (frame_width,frame_height),isColor=False)\n",
    "while(True):\n",
    "    (ret, frame)= cap.read()\n",
    "    gray_frame= cv.cvtColor(frame, cv.COLOR_BGR2GRAY)\n",
    "    \n",
    "\n",
    "    if ret==True:\n",
    "        out.write(gray_frame)\n",
    "        cv.imshow('video',gray_frame)\n",
    "        \n",
    " \n",
    "        if cv.waitKey(1) & 0xff== ord('q'):\n",
    "            break\n",
    "\n",
    "\n",
    "    else: \n",
    "        break \n",
    "\n",
    "cap.release()\n",
    "out.release()\n",
    "cv.destroyAllWindows()        "
   ]
  },
  {
   "cell_type": "code",
   "execution_count": null,
   "metadata": {},
   "outputs": [],
   "source": []
  }
 ],
 "metadata": {
  "interpreter": {
   "hash": "5ce1028be8e515692f6fd691475cddc273996f1e08399b9033d41b7f6acd6d03"
  },
  "kernelspec": {
   "display_name": "Python 3.9.7 64-bit ('base': conda)",
   "language": "python",
   "name": "python3"
  },
  "language_info": {
   "codemirror_mode": {
    "name": "ipython",
    "version": 3
   },
   "file_extension": ".py",
   "mimetype": "text/x-python",
   "name": "python",
   "nbconvert_exporter": "python",
   "pygments_lexer": "ipython3",
   "version": "3.9.7"
  },
  "orig_nbformat": 4
 },
 "nbformat": 4,
 "nbformat_minor": 2
}
