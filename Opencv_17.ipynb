{
 "cells": [
  {
   "cell_type": "code",
   "execution_count": 5,
   "metadata": {},
   "outputs": [],
   "source": [
    "# stacking Images \n",
    "\n",
    "import cv2 as cv \n",
    "import numpy as np \n",
    "\n",
    "img=cv.imread('islam.JPEG')\n",
    "img=cv.resize(img, (200,200))\n",
    "#stacking same images \n",
    "\n",
    "\n",
    "#horizantal stacking \n",
    "#hor_img=np.hstack((img, img))\n",
    "\n",
    "\n",
    "#vertical stacking \n",
    "ver_img= np.vstack((img, img))\n",
    "\n",
    "\n",
    "#stacking multiple images of different size and tunes\n",
    "\n",
    "\n",
    "cv.imshow(\"horizantal\", ver_img )\n",
    "#cv.imshow(\"horizantal\", hor_img )\n",
    "cv.waitKey(0)\n",
    "cv.destroyAllWindows()\n"
   ]
  },
  {
   "cell_type": "code",
   "execution_count": null,
   "metadata": {},
   "outputs": [],
   "source": []
  }
 ],
 "metadata": {
  "interpreter": {
   "hash": "5ce1028be8e515692f6fd691475cddc273996f1e08399b9033d41b7f6acd6d03"
  },
  "kernelspec": {
   "display_name": "Python 3.9.7 ('base')",
   "language": "python",
   "name": "python3"
  },
  "language_info": {
   "codemirror_mode": {
    "name": "ipython",
    "version": 3
   },
   "file_extension": ".py",
   "mimetype": "text/x-python",
   "name": "python",
   "nbconvert_exporter": "python",
   "pygments_lexer": "ipython3",
   "version": "3.9.7"
  },
  "orig_nbformat": 4
 },
 "nbformat": 4,
 "nbformat_minor": 2
}
