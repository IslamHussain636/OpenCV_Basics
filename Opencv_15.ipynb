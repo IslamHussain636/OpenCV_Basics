{
 "cells": [
  {
   "cell_type": "code",
   "execution_count": 6,
   "metadata": {},
   "outputs": [],
   "source": [
    "#resolution \n",
    "import cv2 as cv \n",
    "import numpy as np \n",
    "cap= cv.VideoCapture(0) \n",
    "\n",
    "#resolution \n",
    "# set frame rate .......\n",
    "\n",
    "def frame_rate():\n",
    "    fps = int(cap.get(30))\n",
    "\n",
    "def hd_resolution():\n",
    "    cap.set(3,1280)\n",
    "    cap.set(4,720)\n",
    "\n",
    "def sd_resolution():\n",
    "    cap.set(3,640)\n",
    "    cap.set(4,480)\n",
    "\n",
    "def fhd_resolution():\n",
    "    cap.set(3,1920)\n",
    "    cap.set(4,1080)         \n",
    "\n",
    "#sd_resolution()  \n",
    "#hd_resolution()\n",
    "fhd_resolution()\n",
    "   \n",
    "while True:\n",
    "    ret, frame= cap.read()\n",
    "    if ret==True:\n",
    "        cv.imshow(\"Cameras\", frame)\n",
    "        if cv.waitKey(1)& 0xff==ord('q'):\n",
    "            break\n",
    "    else:\n",
    "        break\n",
    "\n",
    "cap.release()\n",
    "cv.destroyAllWindows()        "
   ]
  },
  {
   "cell_type": "code",
   "execution_count": null,
   "metadata": {},
   "outputs": [],
   "source": []
  }
 ],
 "metadata": {
  "interpreter": {
   "hash": "5ce1028be8e515692f6fd691475cddc273996f1e08399b9033d41b7f6acd6d03"
  },
  "kernelspec": {
   "display_name": "Python 3.9.7 64-bit ('base': conda)",
   "language": "python",
   "name": "python3"
  },
  "language_info": {
   "codemirror_mode": {
    "name": "ipython",
    "version": 3
   },
   "file_extension": ".py",
   "mimetype": "text/x-python",
   "name": "python",
   "nbconvert_exporter": "python",
   "pygments_lexer": "ipython3",
   "version": "3.9.7"
  },
  "orig_nbformat": 4
 },
 "nbformat": 4,
 "nbformat_minor": 2
}
