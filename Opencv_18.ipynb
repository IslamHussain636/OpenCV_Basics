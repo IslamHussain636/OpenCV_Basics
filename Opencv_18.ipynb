{
 "cells": [
  {
   "cell_type": "code",
   "execution_count": null,
   "metadata": {},
   "outputs": [],
   "source": [
    "#straghting a scan document\n",
    "#changing the perspective \n",
    "import cv2 as cv \n",
    "import numpy as np \n",
    "\n",
    "img =cv.imread('islam.JPEG')\n",
    "\n",
    "#defining points \n",
    "point1= np.float32([[233,196],[82,471],[522,169],[715,482]])\n",
    "\n",
    "width=800\n",
    "height=900\n",
    "\n",
    "point2 = np.float32([[0,0],[width,0],[0,height],[width,height]])\n",
    "\n",
    "matrix= cv.getPerspectiveTransform(point1,point2)\n",
    "\n",
    "out_img= cv.warpPerspective(img,matrix,(width, height))\n",
    "# cv.resize()\n",
    "cv.imshow('orignal',img)\n",
    "cv.imshow('transform',out_img)\n",
    "cv.imwrite('data_for_cv/wrap.png')\n",
    "\n",
    "cv.waitKey(0)\n",
    "cv.destroyAllWindows()"
   ]
  },
  {
   "cell_type": "markdown",
   "metadata": {},
   "source": []
  }
 ],
 "metadata": {
  "language_info": {
   "name": "python"
  },
  "orig_nbformat": 4
 },
 "nbformat": 4,
 "nbformat_minor": 2
}
