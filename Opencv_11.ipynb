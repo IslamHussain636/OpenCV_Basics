{
 "cells": [
  {
   "cell_type": "code",
   "execution_count": 3,
   "metadata": {},
   "outputs": [],
   "source": [
    "# capturing and writing video from webcam\n",
    "\n",
    "import cv2 as cv \n",
    "import numpy as np \n",
    "\n",
    "cap= cv.VideoCapture(0)\n",
    "\n",
    "frame_width= int(cap.get(3))# can't change it\n",
    "frame_height= int(cap.get(4))\n",
    "#The vlaue 10 is fps (frame per second).\n",
    "#4-character code of codec used to compress the frames.\n",
    "#For example, VideoWriter::fourcc('P','I','M','1') is a MPEG-1 codec, VideoWriter::fourcc('M','J','P','G') \n",
    "# is a motion-jpeg codec etc.\n",
    "#List of codes can be obtained at Video Codecs by FOURCC page. \n",
    "#FFMPEG backend with MP4 container natively uses other values as fourcc code: see ObjectType, \n",
    "# so you may receive a warning message from OpenCV about fourcc code conversion.\n",
    "out= cv.VideoWriter(\"data_for_cv/cam_gray_video_1.avi\", cv.VideoWriter_fourcc('M','J','P','G'),80,\n",
    " (frame_width,frame_height),isColor=False)\n",
    "#out= cv.VideoWriter(\"data_for_cv/save_video.avi\", cv.VideoWriter_fourcc('M','J','P','G'),10,\n",
    "#  (frame_width,frame_height))\n",
    "\n",
    "while(True):\n",
    "    (ret,frame)=cap.read()\n",
    "    gray_video= cv.cvtColor(frame, cv.COLOR_BGR2GRAY)\n",
    "\n",
    "    if ret==True:\n",
    "        out.write(gray_video)\n",
    "        cv.imshow('Video',gray_video)\n",
    "\n",
    "        if cv.waitKey(1)& 0xff==ord('q'):\n",
    "            break\n",
    "    else:\n",
    "        break \n",
    "\n",
    "cap.release()\n",
    "cv.destroyAllWindows()        \n",
    "\n"
   ]
  },
  {
   "cell_type": "code",
   "execution_count": null,
   "metadata": {},
   "outputs": [],
   "source": []
  },
  {
   "cell_type": "code",
   "execution_count": null,
   "metadata": {},
   "outputs": [],
   "source": []
  }
 ],
 "metadata": {
  "interpreter": {
   "hash": "5ce1028be8e515692f6fd691475cddc273996f1e08399b9033d41b7f6acd6d03"
  },
  "kernelspec": {
   "display_name": "Python 3.9.7 64-bit ('base': conda)",
   "language": "python",
   "name": "python3"
  },
  "language_info": {
   "codemirror_mode": {
    "name": "ipython",
    "version": 3
   },
   "file_extension": ".py",
   "mimetype": "text/x-python",
   "name": "python",
   "nbconvert_exporter": "python",
   "pygments_lexer": "ipython3",
   "version": "3.9.7"
  },
  "orig_nbformat": 4
 },
 "nbformat": 4,
 "nbformat_minor": 2
}
