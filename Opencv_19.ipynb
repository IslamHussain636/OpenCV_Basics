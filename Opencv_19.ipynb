{
 "cells": [
  {
   "cell_type": "code",
   "execution_count": 8,
   "metadata": {},
   "outputs": [
    {
     "name": "stdout",
     "output_type": "stream",
     "text": [
      "854  234\n",
      "869  232\n"
     ]
    }
   ],
   "source": [
    "# coordiantes of an Image and videos\n",
    "# BGR color codes\n",
    "import cv2 as cv \n",
    "import numpy as np \n",
    "\n",
    "# function \n",
    "def find_coor(event,x,y,flags,paramas):\n",
    "    if event== cv.EVENT_LBUTTONDOWN:\n",
    "        #left mouse click\n",
    "        print(x,'',y)\n",
    "        #how to define or print \n",
    "        font= cv.FONT_ITALIC\n",
    "        cv.putText(img, str(x)+','+str(y),(x,y),font,1,(255,0,100),thickness=2)\n",
    "        #show text on image\n",
    "        cv.imshow(\"image\",  img )\n",
    "        # for color finding \n",
    "        if event==cv.EVENT_RBUTTONDOWN:\n",
    "            print(x, '', y)\n",
    "            font=cv.FONT_HERSHEY_SIMPLEX\n",
    "            b=img[y,x,0]\n",
    "            g=img[y,x,1]\n",
    "            r=img[y,x,2]\n",
    "\n",
    "            cv.putText(img, str(b),+','+str(g)+','+str(r),(x,y),font,1,(255,0,0),2)\n",
    "            cv.imshow('image',img)\n",
    "\n",
    "\n",
    "# read and display coordianates of image\n",
    "if __name__==\"__main__\":\n",
    "    img=cv.imread('islam.JPEG',1)\n",
    "    cv.imshow('Image', img)\n",
    "    cv.setMouseCallback('Image',find_coor)\n",
    "    cv.waitKey(0)\n",
    "    cv.destroyAllWindows()\n",
    "     \n",
    "\n",
    "\n",
    "\n",
    "\n",
    "\n",
    "\n"
   ]
  },
  {
   "cell_type": "code",
   "execution_count": null,
   "metadata": {},
   "outputs": [],
   "source": []
  }
 ],
 "metadata": {
  "interpreter": {
   "hash": "5ce1028be8e515692f6fd691475cddc273996f1e08399b9033d41b7f6acd6d03"
  },
  "kernelspec": {
   "display_name": "Python 3.9.7 ('base')",
   "language": "python",
   "name": "python3"
  },
  "language_info": {
   "codemirror_mode": {
    "name": "ipython",
    "version": 3
   },
   "file_extension": ".py",
   "mimetype": "text/x-python",
   "name": "python",
   "nbconvert_exporter": "python",
   "pygments_lexer": "ipython3",
   "version": "3.9.7"
  },
  "orig_nbformat": 4
 },
 "nbformat": 4,
 "nbformat_minor": 2
}
