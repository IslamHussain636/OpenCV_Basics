{
 "cells": [
  {
   "cell_type": "code",
   "execution_count": 15,
   "metadata": {},
   "outputs": [],
   "source": [
    "# basic functions and manipulation in opencv\n",
    "\n",
    "import cv2 as cv \n",
    "import numpy as np \n",
    "\n",
    "\n",
    "img=cv.imread('data_for_cv/islam.jpeg')\n",
    "img=cv.resize(img,(450,450))\n",
    " \n",
    "\n",
    "# resizing an Image\n",
    "resized_img= cv.resize(img, (250,250))\n",
    "\n",
    "# gray Image \n",
    "gray_img= cv.cvtColor(img, cv.COLOR_BGR2GRAY)\n",
    "\n",
    "#B&W\n",
    "(thresh, binary)= cv.threshold(img, 127,255, cv.THRESH_BINARY)\n",
    "\n",
    "# Blur\n",
    "blur_img= cv.GaussianBlur(img,(7,7),0) # (23x23)\n",
    "\n",
    "#edge detection\n",
    "edge_img= cv.Canny(img,53,48)\n",
    "\n",
    "# thickness of line\n",
    "mat_kernal= np.ones((3,3),np.uint8)\n",
    "dilated_img= cv.dilate(edge_img,(mat_kernal),iterations=1)\n",
    "\n",
    "# errosion thiner\n",
    "err_img= cv.erode(dilated_img, mat_kernal, iterations=1)\n",
    "\n",
    "# cropping we will use \n",
    "print('The size of our image is:',img.shape)\n",
    "crop_img=img[0:200, 200:300]\n",
    "\n",
    "\n",
    "cv.imshow('Orignal',img)\n",
    "cv.imshow('resizes',resized_img)\n",
    "cv.imshow('B&W',binary)\n",
    "cv.imshow('gray',gray_img)\n",
    "cv.imshow('blur',blur_img)\n",
    "cv.imshow('edge',edge_img)\n",
    "cv.imshow('dilated',dilated_img)\n",
    "cv.imshow('errored',err_img)\n",
    "cv.imshow('cropped',crop_img)\n",
    "cv.waitKey(0)\n",
    "cv.destroyAllWindows()\n",
    "\n"
   ]
  },
  {
   "cell_type": "code",
   "execution_count": null,
   "metadata": {},
   "outputs": [],
   "source": []
  }
 ],
 "metadata": {
  "interpreter": {
   "hash": "5ce1028be8e515692f6fd691475cddc273996f1e08399b9033d41b7f6acd6d03"
  },
  "kernelspec": {
   "display_name": "Python 3.9.7 64-bit ('base': conda)",
   "language": "python",
   "name": "python3"
  },
  "language_info": {
   "codemirror_mode": {
    "name": "ipython",
    "version": 3
   },
   "file_extension": ".py",
   "mimetype": "text/x-python",
   "name": "python",
   "nbconvert_exporter": "python",
   "pygments_lexer": "ipython3",
   "version": "3.9.7"
  },
  "orig_nbformat": 4
 },
 "nbformat": 4,
 "nbformat_minor": 2
}
