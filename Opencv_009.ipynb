{
 "cells": [
  {
   "cell_type": "code",
   "execution_count": 2,
   "metadata": {},
   "outputs": [],
   "source": [
    "#capture webcam \n",
    "# setp 1\n",
    "# Importing the libraries \n",
    "import cv2 as cv\n",
    "import numpy as np \n",
    "# Step 2 \n",
    "# capture video\n",
    "\n",
    "cap=cv.VideoCapture(0)\n",
    "\n",
    "#step-3 \n",
    "# read frame by frame \n",
    "\n",
    "\n",
    "while (cap.isOpened()):\n",
    "    ret,frame=cap.read()\n",
    "    if ret==True:\n",
    "        #display video frame\n",
    "        cv.imshow('Frame', frame)\n",
    "          # to quit press q\n",
    "        if cv.waitKey(1) & 0xff==ord('q'):\n",
    "            break\n",
    "        \n",
    "    else:\n",
    "        break\n",
    "# release all video\n",
    "cap.release()\n",
    "cv.destroyAllWindows()        "
   ]
  },
  {
   "cell_type": "code",
   "execution_count": null,
   "metadata": {},
   "outputs": [],
   "source": []
  }
 ],
 "metadata": {
  "interpreter": {
   "hash": "5ce1028be8e515692f6fd691475cddc273996f1e08399b9033d41b7f6acd6d03"
  },
  "kernelspec": {
   "display_name": "Python 3.9.7 64-bit ('base': conda)",
   "language": "python",
   "name": "python3"
  },
  "language_info": {
   "codemirror_mode": {
    "name": "ipython",
    "version": 3
   },
   "file_extension": ".py",
   "mimetype": "text/x-python",
   "name": "python",
   "nbconvert_exporter": "python",
   "pygments_lexer": "ipython3",
   "version": "3.9.7"
  },
  "orig_nbformat": 4
 },
 "nbformat": 4,
 "nbformat_minor": 2
}
