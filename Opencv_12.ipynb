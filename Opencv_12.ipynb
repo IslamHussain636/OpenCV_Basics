{
 "cells": [
  {
   "cell_type": "code",
   "execution_count": 5,
   "metadata": {},
   "outputs": [],
   "source": [
    "#setting of camera\n",
    "\n",
    "\n",
    "import cv2 as cv \n",
    "import numpy as np \n",
    "cap=cv.VideoCapture(0)\n",
    "cap.set(10,100) # to set brightness\n",
    "cap.set(3,1920)\n",
    "cap.set(4,1080)\n",
    "while True:\n",
    "    ret, frame=cap.read()\n",
    "    if ret== True:\n",
    "        cv.imshow('frame', frame)\n",
    "        if cv.waitKey(1)& 0xff == ord('q'):\n",
    "            break\n",
    "    else:\n",
    "        break\n",
    "\n",
    "\n",
    "cap.release()\n",
    "cv.destroyAllWindows()"
   ]
  },
  {
   "cell_type": "code",
   "execution_count": null,
   "metadata": {},
   "outputs": [],
   "source": [
    " "
   ]
  }
 ],
 "metadata": {
  "interpreter": {
   "hash": "5ce1028be8e515692f6fd691475cddc273996f1e08399b9033d41b7f6acd6d03"
  },
  "kernelspec": {
   "display_name": "Python 3.9.7 64-bit ('base': conda)",
   "language": "python",
   "name": "python3"
  },
  "language_info": {
   "codemirror_mode": {
    "name": "ipython",
    "version": 3
   },
   "file_extension": ".py",
   "mimetype": "text/x-python",
   "name": "python",
   "nbconvert_exporter": "python",
   "pygments_lexer": "ipython3",
   "version": "3.9.7"
  },
  "orig_nbformat": 4
 },
 "nbformat": 4,
 "nbformat_minor": 2
}
